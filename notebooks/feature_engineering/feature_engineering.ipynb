{
 "cells": [
  {
   "cell_type": "markdown",
   "id": "72643393-63cc-4b82-9a25-cd1f1420469f",
   "metadata": {},
   "source": [
    "# [Feature Engineering](https://www.kaggle.com/code/ryanholbrook/what-is-feature-engineering)"
   ]
  },
  {
   "cell_type": "markdown",
   "id": "10b190f0-9f08-483f-9aed-36be71c74c13",
   "metadata": {},
   "source": [
    "## What is feature engineering\n",
    "Feature engineering in machine learning refers to the process of selecting, transforming, or creating new features (input variables) from the raw data to improve the performance of machine learning models. It involves extracting relevant information from the dataset and representing it in a format that is suitable for the machine learning algorithm to learn from."
   ]
  },
  {
   "cell_type": "markdown",
   "id": "4f8f0d6c-c229-4a69-a2f5-8e49397f242d",
   "metadata": {
    "editable": true,
    "slideshow": {
     "slide_type": ""
    },
    "tags": []
   },
   "source": [
    "By learn feature engineering, You'll know how to:\n",
    "\n",
    "* determine which features are the most important with mutual information\n",
    "* invent new features in several real-world problem domains\n",
    "* encode high-cardinality categoricals with a target encoding\n",
    "* create segmentation features with k-means clustering\n",
    "* decompose a dataset's variation into features with principal component analysis"
   ]
  },
  {
   "cell_type": "markdown",
   "id": "ea4669be-a671-4c0d-8602-f951f40c5dcc",
   "metadata": {},
   "source": [
    "Benefits of feature engineering\n",
    "* improve predictive performance\n",
    "* reduce computational or data needs\n",
    "* improve interpretability of the results"
   ]
  },
  {
   "cell_type": "markdown",
   "id": "a7a04d97-9849-49e7-b001-b7b9858e888e",
   "metadata": {},
   "source": [
    "## A Guiding Principle of Feature Engineering"
   ]
  },
  {
   "cell_type": "markdown",
   "id": "f9c6265e-b1e3-40e7-ad3f-643dcc44e270",
   "metadata": {},
   "source": [
    "**Principle**\n",
    "> Choose features that have relationship with target.\n",
    "\n",
    "e.g. in linear models, choose or transform the features to make them have linear relationship to the target."
   ]
  },
  {
   "cell_type": "markdown",
   "id": "ed9fadf4-f5cd-4b58-afa6-7b487c7477d9",
   "metadata": {},
   "source": [
    "In house price predict linear model, we choose area=length * width as a squared feature. The linear model fits better than using length or width in this case."
   ]
  },
  {
   "cell_type": "markdown",
   "id": "af4a0e83-fa9d-41b5-98ff-10480322390e",
   "metadata": {},
   "source": [
    "### Example - Concrete Formulations"
   ]
  },
  {
   "cell_type": "markdown",
   "id": "564d91ac-100b-416d-ade1-faac747321a5",
   "metadata": {},
   "source": [
    "Given a task to predict a concrete's compressive strength from its formulation.\n",
    "\n",
    "We can improve the predictive performance of a [<u>random forest model</u>](https://scikit-learn.org/stable/modules/generated/sklearn.ensemble.RandomForestRegressor.html) by adding a few synthetic features.\n",
    "\n"
   ]
  },
  {
   "cell_type": "code",
   "execution_count": 1,
   "id": "1c3bb48c-d4a8-4b7d-84b2-52c621d74b9b",
   "metadata": {},
   "outputs": [
    {
     "data": {
      "text/html": [
       "<div>\n",
       "<style scoped>\n",
       "    .dataframe tbody tr th:only-of-type {\n",
       "        vertical-align: middle;\n",
       "    }\n",
       "\n",
       "    .dataframe tbody tr th {\n",
       "        vertical-align: top;\n",
       "    }\n",
       "\n",
       "    .dataframe thead th {\n",
       "        text-align: right;\n",
       "    }\n",
       "</style>\n",
       "<table border=\"1\" class=\"dataframe\">\n",
       "  <thead>\n",
       "    <tr style=\"text-align: right;\">\n",
       "      <th></th>\n",
       "      <th>Cement</th>\n",
       "      <th>BlastFurnaceSlag</th>\n",
       "      <th>FlyAsh</th>\n",
       "      <th>Water</th>\n",
       "      <th>Superplasticizer</th>\n",
       "      <th>CoarseAggregate</th>\n",
       "      <th>FineAggregate</th>\n",
       "      <th>Age</th>\n",
       "      <th>CompressiveStrength</th>\n",
       "    </tr>\n",
       "  </thead>\n",
       "  <tbody>\n",
       "    <tr>\n",
       "      <th>0</th>\n",
       "      <td>540.0</td>\n",
       "      <td>0.0</td>\n",
       "      <td>0.0</td>\n",
       "      <td>162.0</td>\n",
       "      <td>2.5</td>\n",
       "      <td>1040.0</td>\n",
       "      <td>676.0</td>\n",
       "      <td>28</td>\n",
       "      <td>79.99</td>\n",
       "    </tr>\n",
       "    <tr>\n",
       "      <th>1</th>\n",
       "      <td>540.0</td>\n",
       "      <td>0.0</td>\n",
       "      <td>0.0</td>\n",
       "      <td>162.0</td>\n",
       "      <td>2.5</td>\n",
       "      <td>1055.0</td>\n",
       "      <td>676.0</td>\n",
       "      <td>28</td>\n",
       "      <td>61.89</td>\n",
       "    </tr>\n",
       "    <tr>\n",
       "      <th>2</th>\n",
       "      <td>332.5</td>\n",
       "      <td>142.5</td>\n",
       "      <td>0.0</td>\n",
       "      <td>228.0</td>\n",
       "      <td>0.0</td>\n",
       "      <td>932.0</td>\n",
       "      <td>594.0</td>\n",
       "      <td>270</td>\n",
       "      <td>40.27</td>\n",
       "    </tr>\n",
       "    <tr>\n",
       "      <th>3</th>\n",
       "      <td>332.5</td>\n",
       "      <td>142.5</td>\n",
       "      <td>0.0</td>\n",
       "      <td>228.0</td>\n",
       "      <td>0.0</td>\n",
       "      <td>932.0</td>\n",
       "      <td>594.0</td>\n",
       "      <td>365</td>\n",
       "      <td>41.05</td>\n",
       "    </tr>\n",
       "    <tr>\n",
       "      <th>4</th>\n",
       "      <td>198.6</td>\n",
       "      <td>132.4</td>\n",
       "      <td>0.0</td>\n",
       "      <td>192.0</td>\n",
       "      <td>0.0</td>\n",
       "      <td>978.4</td>\n",
       "      <td>825.5</td>\n",
       "      <td>360</td>\n",
       "      <td>44.30</td>\n",
       "    </tr>\n",
       "  </tbody>\n",
       "</table>\n",
       "</div>"
      ],
      "text/plain": [
       "   Cement  BlastFurnaceSlag  FlyAsh  Water  Superplasticizer  CoarseAggregate  \\\n",
       "0   540.0               0.0     0.0  162.0               2.5           1040.0   \n",
       "1   540.0               0.0     0.0  162.0               2.5           1055.0   \n",
       "2   332.5             142.5     0.0  228.0               0.0            932.0   \n",
       "3   332.5             142.5     0.0  228.0               0.0            932.0   \n",
       "4   198.6             132.4     0.0  192.0               0.0            978.4   \n",
       "\n",
       "   FineAggregate  Age  CompressiveStrength  \n",
       "0          676.0   28                79.99  \n",
       "1          676.0   28                61.89  \n",
       "2          594.0  270                40.27  \n",
       "3          594.0  365                41.05  \n",
       "4          825.5  360                44.30  "
      ]
     },
     "execution_count": 1,
     "metadata": {},
     "output_type": "execute_result"
    }
   ],
   "source": [
    "import pandas as pd\n",
    "from sklearn.ensemble import RandomForestRegressor\n",
    "from sklearn.model_selection import cross_val_score\n",
    "\n",
    "concrete = pd.read_csv(\"data/concrete.csv\")\n",
    "concrete.head()"
   ]
  },
  {
   "cell_type": "markdown",
   "id": "75c33be3-9c79-4174-9b1d-c73101c41260",
   "metadata": {},
   "source": [
    "#### Create baseline\n",
    "\n",
    "Establish a baseline by training the model on the un-augmented dataset. This will help us determine whether our new features are actually useful.\n",
    "\n",
    "By run the code below, we get an base line score: 8.232."
   ]
  },
  {
   "cell_type": "code",
   "execution_count": 2,
   "id": "a883942c-2ace-4637-8ac7-79a168a6642c",
   "metadata": {},
   "outputs": [
    {
     "name": "stdout",
     "output_type": "stream",
     "text": [
      "MAE Baseline Score: 8.232\n"
     ]
    }
   ],
   "source": [
    "X = concrete.copy()\n",
    "y = X.pop(\"CompressiveStrength\")\n",
    "\n",
    "# Train and score baseline model\n",
    "baseline = RandomForestRegressor(\n",
    "    criterion=\"absolute_error\",   # measure the quality of a tree split. default=”squared_error”\n",
    "    random_state=0                # Controls the randomnes of sampling\n",
    ")\n",
    "\n",
    "baseline_score = cross_val_score(\n",
    "    baseline,   # estimator: model to fit test data\n",
    "    X,          # features\n",
    "    y,          # target\n",
    "    cv=5,       # set cross-validation splitting strategy. KFold=5\n",
    "    scoring=\"neg_mean_absolute_error\",\n",
    ")\n",
    "\n",
    "baseline_score = -1 * baseline_score.mean()\n",
    "\n",
    "print(f\"MAE Baseline Score: {baseline_score:.4}\")"
   ]
  },
  {
   "cell_type": "markdown",
   "id": "1a95b962-804d-4f1f-a052-4b71238b2deb",
   "metadata": {},
   "source": [
    "API reference:\n",
    "* [RandomForestRegressor](https://scikit-learn.org/stable/modules/generated/sklearn.ensemble.RandomForestRegressor.html)\n",
    "* [cross_val_score](https://scikit-learn.org/stable/modules/generated/sklearn.model_selection.cross_val_score.html)"
   ]
  },
  {
   "cell_type": "markdown",
   "id": "3e3ab60b-5ff0-4586-bad4-e3504269fc69",
   "metadata": {},
   "source": [
    "#### Improve predictive performance"
   ]
  },
  {
   "cell_type": "markdown",
   "id": "d1d3cd89-2ee6-4c2c-b43d-c02ea707a647",
   "metadata": {},
   "source": [
    "Since the ratio of ingredients usually is a better predictor than their absolute amounts. We create ratios of the features for CompressiveStrength prediction this time."
   ]
  },
  {
   "cell_type": "code",
   "execution_count": 3,
   "id": "a25644da-5a19-4696-95da-1ad55c58bdf4",
   "metadata": {},
   "outputs": [
    {
     "name": "stdout",
     "output_type": "stream",
     "text": [
      "MAE Score with Ratio Features: 7.948\n"
     ]
    }
   ],
   "source": [
    "X = concrete.copy()\n",
    "y = X.pop(\"CompressiveStrength\")\n",
    "\n",
    "# Create synthetic features\n",
    "X[\"FCRatio\"] = X[\"FineAggregate\"] / X[\"CoarseAggregate\"]\n",
    "X[\"AggCmtRatio\"] = (X[\"CoarseAggregate\"] + X[\"FineAggregate\"]) / X[\"Cement\"]\n",
    "X[\"WtrCmtRatio\"] = X[\"Water\"] / X[\"Cement\"]\n",
    "\n",
    "# Train and score model on dataset with additional ratio features\n",
    "model = RandomForestRegressor(\n",
    "    criterion=\"absolute_error\", \n",
    "    random_state=0\n",
    ")\n",
    "\n",
    "score = cross_val_score(\n",
    "    model, X, y, cv=5, scoring=\"neg_mean_absolute_error\"\n",
    ")\n",
    "score = -1 * score.mean()\n",
    "\n",
    "print(f\"MAE Score with Ratio Features: {score:.4}\")"
   ]
  },
  {
   "cell_type": "markdown",
   "id": "305e9e48-4001-4f9d-b2cf-6814252ba74b",
   "metadata": {},
   "source": [
    "The MAE score 7.948 < baseline 8.232. \n",
    "\n",
    "This is evidence that these new ratios exposed important information to the model that it wasn't detecting before."
   ]
  },
  {
   "cell_type": "markdown",
   "id": "6f6f9d7e-9be9-494a-a57f-43f56d3f65bf",
   "metadata": {},
   "source": [
    "## [Mutual Information (MI)](https://www.kaggle.com/code/ryanholbrook/mutual-information)\n",
    "**Mutual Information (MI)** is a measure of the mutual dependence between **two random variables(a pair)** in terms of the information they provide about each other. In other words, it quantifies how much knowing one variable reduces uncertainty about the other."
   ]
  },
  {
   "cell_type": "markdown",
   "id": "8b7dbb96-d176-4639-af7f-e659c12574c4",
   "metadata": {},
   "source": [
    "Things to know when applying mutual information in feature selection:\n",
    "* A variable with high mutual information with the target are often considered more relevant for modeling tasks, as it provides more predictive power.\n",
    "* It's possible for a feature to be very informative when interacting with other features, but not so informative all alone. MI can't detect interactions between features. It is a `univariate` metric. \n",
    "  * MI measures pairwise relationships: MI calculates the amount of information shared between pairs of variables. It does not directly consider interactions among multiple variables simultaneously. Therefore, it might not capture higher-order relationships or interactions involving more than two variables.\n",
    "  * Nonlinear relationships: MI, in its basic form, measures linear relationships between variables. If the interactions between features are nonlinear, MI might not be able to capture them accurately.\n",
    "* The actual usefulness of a feature depends on the model you use it with. A feature is only useful to the extent that its relationship with the target is one your model can learn. Just because a feature has a high MI score doesn't mean your model will be able to do anything with that information. You may need to transform the feature first to expose the association."
   ]
  },
  {
   "cell_type": "markdown",
   "id": "93be4175-12c4-417a-9692-6255df777420",
   "metadata": {},
   "source": [
    "### Example - 1985 Automobiles"
   ]
  },
  {
   "cell_type": "markdown",
   "id": "cef87b33-1b94-4ad1-9a7c-e5ab424f756c",
   "metadata": {},
   "source": [
    "The task is predict the price (the target) of a car from features, such as `make`, `body_style`, `horsepower`, etc. \n",
    "\n",
    "In this example, we'll rank the features with mutual information and investigate the results by data visualization."
   ]
  },
  {
   "cell_type": "code",
   "execution_count": 4,
   "id": "6afcf2fc-1731-459b-abc4-a8f13c9014f1",
   "metadata": {},
   "outputs": [
    {
     "data": {
      "text/html": [
       "<div>\n",
       "<style scoped>\n",
       "    .dataframe tbody tr th:only-of-type {\n",
       "        vertical-align: middle;\n",
       "    }\n",
       "\n",
       "    .dataframe tbody tr th {\n",
       "        vertical-align: top;\n",
       "    }\n",
       "\n",
       "    .dataframe thead th {\n",
       "        text-align: right;\n",
       "    }\n",
       "</style>\n",
       "<table border=\"1\" class=\"dataframe\">\n",
       "  <thead>\n",
       "    <tr style=\"text-align: right;\">\n",
       "      <th></th>\n",
       "      <th>symboling</th>\n",
       "      <th>make</th>\n",
       "      <th>fuel_type</th>\n",
       "      <th>aspiration</th>\n",
       "      <th>num_of_doors</th>\n",
       "      <th>body_style</th>\n",
       "      <th>drive_wheels</th>\n",
       "      <th>engine_location</th>\n",
       "      <th>wheel_base</th>\n",
       "      <th>length</th>\n",
       "      <th>...</th>\n",
       "      <th>engine_size</th>\n",
       "      <th>fuel_system</th>\n",
       "      <th>bore</th>\n",
       "      <th>stroke</th>\n",
       "      <th>compression_ratio</th>\n",
       "      <th>horsepower</th>\n",
       "      <th>peak_rpm</th>\n",
       "      <th>city_mpg</th>\n",
       "      <th>highway_mpg</th>\n",
       "      <th>price</th>\n",
       "    </tr>\n",
       "  </thead>\n",
       "  <tbody>\n",
       "    <tr>\n",
       "      <th>0</th>\n",
       "      <td>3</td>\n",
       "      <td>alfa-romero</td>\n",
       "      <td>gas</td>\n",
       "      <td>std</td>\n",
       "      <td>2</td>\n",
       "      <td>convertible</td>\n",
       "      <td>rwd</td>\n",
       "      <td>front</td>\n",
       "      <td>88.6</td>\n",
       "      <td>168.8</td>\n",
       "      <td>...</td>\n",
       "      <td>130</td>\n",
       "      <td>mpfi</td>\n",
       "      <td>3.47</td>\n",
       "      <td>2.68</td>\n",
       "      <td>9</td>\n",
       "      <td>111</td>\n",
       "      <td>5000</td>\n",
       "      <td>21</td>\n",
       "      <td>27</td>\n",
       "      <td>13495</td>\n",
       "    </tr>\n",
       "    <tr>\n",
       "      <th>1</th>\n",
       "      <td>3</td>\n",
       "      <td>alfa-romero</td>\n",
       "      <td>gas</td>\n",
       "      <td>std</td>\n",
       "      <td>2</td>\n",
       "      <td>convertible</td>\n",
       "      <td>rwd</td>\n",
       "      <td>front</td>\n",
       "      <td>88.6</td>\n",
       "      <td>168.8</td>\n",
       "      <td>...</td>\n",
       "      <td>130</td>\n",
       "      <td>mpfi</td>\n",
       "      <td>3.47</td>\n",
       "      <td>2.68</td>\n",
       "      <td>9</td>\n",
       "      <td>111</td>\n",
       "      <td>5000</td>\n",
       "      <td>21</td>\n",
       "      <td>27</td>\n",
       "      <td>16500</td>\n",
       "    </tr>\n",
       "    <tr>\n",
       "      <th>2</th>\n",
       "      <td>1</td>\n",
       "      <td>alfa-romero</td>\n",
       "      <td>gas</td>\n",
       "      <td>std</td>\n",
       "      <td>2</td>\n",
       "      <td>hatchback</td>\n",
       "      <td>rwd</td>\n",
       "      <td>front</td>\n",
       "      <td>94.5</td>\n",
       "      <td>171.2</td>\n",
       "      <td>...</td>\n",
       "      <td>152</td>\n",
       "      <td>mpfi</td>\n",
       "      <td>2.68</td>\n",
       "      <td>3.47</td>\n",
       "      <td>9</td>\n",
       "      <td>154</td>\n",
       "      <td>5000</td>\n",
       "      <td>19</td>\n",
       "      <td>26</td>\n",
       "      <td>16500</td>\n",
       "    </tr>\n",
       "    <tr>\n",
       "      <th>3</th>\n",
       "      <td>2</td>\n",
       "      <td>audi</td>\n",
       "      <td>gas</td>\n",
       "      <td>std</td>\n",
       "      <td>4</td>\n",
       "      <td>sedan</td>\n",
       "      <td>fwd</td>\n",
       "      <td>front</td>\n",
       "      <td>99.8</td>\n",
       "      <td>176.6</td>\n",
       "      <td>...</td>\n",
       "      <td>109</td>\n",
       "      <td>mpfi</td>\n",
       "      <td>3.19</td>\n",
       "      <td>3.40</td>\n",
       "      <td>10</td>\n",
       "      <td>102</td>\n",
       "      <td>5500</td>\n",
       "      <td>24</td>\n",
       "      <td>30</td>\n",
       "      <td>13950</td>\n",
       "    </tr>\n",
       "    <tr>\n",
       "      <th>4</th>\n",
       "      <td>2</td>\n",
       "      <td>audi</td>\n",
       "      <td>gas</td>\n",
       "      <td>std</td>\n",
       "      <td>4</td>\n",
       "      <td>sedan</td>\n",
       "      <td>4wd</td>\n",
       "      <td>front</td>\n",
       "      <td>99.4</td>\n",
       "      <td>176.6</td>\n",
       "      <td>...</td>\n",
       "      <td>136</td>\n",
       "      <td>mpfi</td>\n",
       "      <td>3.19</td>\n",
       "      <td>3.40</td>\n",
       "      <td>8</td>\n",
       "      <td>115</td>\n",
       "      <td>5500</td>\n",
       "      <td>18</td>\n",
       "      <td>22</td>\n",
       "      <td>17450</td>\n",
       "    </tr>\n",
       "  </tbody>\n",
       "</table>\n",
       "<p>5 rows × 25 columns</p>\n",
       "</div>"
      ],
      "text/plain": [
       "   symboling         make fuel_type aspiration  num_of_doors   body_style  \\\n",
       "0          3  alfa-romero       gas        std             2  convertible   \n",
       "1          3  alfa-romero       gas        std             2  convertible   \n",
       "2          1  alfa-romero       gas        std             2    hatchback   \n",
       "3          2         audi       gas        std             4        sedan   \n",
       "4          2         audi       gas        std             4        sedan   \n",
       "\n",
       "  drive_wheels engine_location  wheel_base  length  ...  engine_size  \\\n",
       "0          rwd           front        88.6   168.8  ...          130   \n",
       "1          rwd           front        88.6   168.8  ...          130   \n",
       "2          rwd           front        94.5   171.2  ...          152   \n",
       "3          fwd           front        99.8   176.6  ...          109   \n",
       "4          4wd           front        99.4   176.6  ...          136   \n",
       "\n",
       "   fuel_system  bore stroke  compression_ratio  horsepower peak_rpm  city_mpg  \\\n",
       "0         mpfi  3.47   2.68                  9         111     5000        21   \n",
       "1         mpfi  3.47   2.68                  9         111     5000        21   \n",
       "2         mpfi  2.68   3.47                  9         154     5000        19   \n",
       "3         mpfi  3.19   3.40                 10         102     5500        24   \n",
       "4         mpfi  3.19   3.40                  8         115     5500        18   \n",
       "\n",
       "   highway_mpg  price  \n",
       "0           27  13495  \n",
       "1           27  16500  \n",
       "2           26  16500  \n",
       "3           30  13950  \n",
       "4           22  17450  \n",
       "\n",
       "[5 rows x 25 columns]"
      ]
     },
     "execution_count": 4,
     "metadata": {},
     "output_type": "execute_result"
    }
   ],
   "source": [
    "import matplotlib.pyplot as plt\n",
    "import seaborn as sns\n",
    "\n",
    "sns.set_style(\"whitegrid\")\n",
    "\n",
    "autos = pd.read_csv(\"data/autos.csv\")\n",
    "autos.head()"
   ]
  },
  {
   "cell_type": "markdown",
   "id": "302e756e-b3ae-485c-a1f4-e0fbd4e1c3af",
   "metadata": {},
   "source": [
    "The scikit-learn algorithm for MI treats `discrete` features differently from `continuous` features. \n",
    "* Float type variable is a continues feature, except\n",
    "  * it has been divided into bins or categories and each float value corresponds to a specific bin or category.\n",
    "* Categoricals (object or categorial dtype) can be treated as discrete by label encoding."
   ]
  },
  {
   "cell_type": "code",
   "execution_count": 5,
   "id": "e30893be-a1d3-4412-849c-c9ccae1a8228",
   "metadata": {},
   "outputs": [
    {
     "data": {
      "text/html": [
       "<div>\n",
       "<style scoped>\n",
       "    .dataframe tbody tr th:only-of-type {\n",
       "        vertical-align: middle;\n",
       "    }\n",
       "\n",
       "    .dataframe tbody tr th {\n",
       "        vertical-align: top;\n",
       "    }\n",
       "\n",
       "    .dataframe thead th {\n",
       "        text-align: right;\n",
       "    }\n",
       "</style>\n",
       "<table border=\"1\" class=\"dataframe\">\n",
       "  <thead>\n",
       "    <tr style=\"text-align: right;\">\n",
       "      <th></th>\n",
       "      <th>symboling</th>\n",
       "      <th>make</th>\n",
       "      <th>fuel_type</th>\n",
       "      <th>aspiration</th>\n",
       "      <th>num_of_doors</th>\n",
       "      <th>body_style</th>\n",
       "      <th>drive_wheels</th>\n",
       "      <th>engine_location</th>\n",
       "      <th>wheel_base</th>\n",
       "      <th>length</th>\n",
       "      <th>...</th>\n",
       "      <th>num_of_cylinders</th>\n",
       "      <th>engine_size</th>\n",
       "      <th>fuel_system</th>\n",
       "      <th>bore</th>\n",
       "      <th>stroke</th>\n",
       "      <th>compression_ratio</th>\n",
       "      <th>horsepower</th>\n",
       "      <th>peak_rpm</th>\n",
       "      <th>city_mpg</th>\n",
       "      <th>highway_mpg</th>\n",
       "    </tr>\n",
       "  </thead>\n",
       "  <tbody>\n",
       "    <tr>\n",
       "      <th>0</th>\n",
       "      <td>3</td>\n",
       "      <td>0</td>\n",
       "      <td>0</td>\n",
       "      <td>0</td>\n",
       "      <td>2</td>\n",
       "      <td>0</td>\n",
       "      <td>0</td>\n",
       "      <td>0</td>\n",
       "      <td>88.6</td>\n",
       "      <td>168.8</td>\n",
       "      <td>...</td>\n",
       "      <td>4</td>\n",
       "      <td>130</td>\n",
       "      <td>0</td>\n",
       "      <td>3.47</td>\n",
       "      <td>2.68</td>\n",
       "      <td>9</td>\n",
       "      <td>111</td>\n",
       "      <td>5000</td>\n",
       "      <td>21</td>\n",
       "      <td>27</td>\n",
       "    </tr>\n",
       "    <tr>\n",
       "      <th>1</th>\n",
       "      <td>3</td>\n",
       "      <td>0</td>\n",
       "      <td>0</td>\n",
       "      <td>0</td>\n",
       "      <td>2</td>\n",
       "      <td>0</td>\n",
       "      <td>0</td>\n",
       "      <td>0</td>\n",
       "      <td>88.6</td>\n",
       "      <td>168.8</td>\n",
       "      <td>...</td>\n",
       "      <td>4</td>\n",
       "      <td>130</td>\n",
       "      <td>0</td>\n",
       "      <td>3.47</td>\n",
       "      <td>2.68</td>\n",
       "      <td>9</td>\n",
       "      <td>111</td>\n",
       "      <td>5000</td>\n",
       "      <td>21</td>\n",
       "      <td>27</td>\n",
       "    </tr>\n",
       "    <tr>\n",
       "      <th>2</th>\n",
       "      <td>1</td>\n",
       "      <td>0</td>\n",
       "      <td>0</td>\n",
       "      <td>0</td>\n",
       "      <td>2</td>\n",
       "      <td>1</td>\n",
       "      <td>0</td>\n",
       "      <td>0</td>\n",
       "      <td>94.5</td>\n",
       "      <td>171.2</td>\n",
       "      <td>...</td>\n",
       "      <td>6</td>\n",
       "      <td>152</td>\n",
       "      <td>0</td>\n",
       "      <td>2.68</td>\n",
       "      <td>3.47</td>\n",
       "      <td>9</td>\n",
       "      <td>154</td>\n",
       "      <td>5000</td>\n",
       "      <td>19</td>\n",
       "      <td>26</td>\n",
       "    </tr>\n",
       "    <tr>\n",
       "      <th>3</th>\n",
       "      <td>2</td>\n",
       "      <td>1</td>\n",
       "      <td>0</td>\n",
       "      <td>0</td>\n",
       "      <td>4</td>\n",
       "      <td>2</td>\n",
       "      <td>1</td>\n",
       "      <td>0</td>\n",
       "      <td>99.8</td>\n",
       "      <td>176.6</td>\n",
       "      <td>...</td>\n",
       "      <td>4</td>\n",
       "      <td>109</td>\n",
       "      <td>0</td>\n",
       "      <td>3.19</td>\n",
       "      <td>3.40</td>\n",
       "      <td>10</td>\n",
       "      <td>102</td>\n",
       "      <td>5500</td>\n",
       "      <td>24</td>\n",
       "      <td>30</td>\n",
       "    </tr>\n",
       "    <tr>\n",
       "      <th>4</th>\n",
       "      <td>2</td>\n",
       "      <td>1</td>\n",
       "      <td>0</td>\n",
       "      <td>0</td>\n",
       "      <td>4</td>\n",
       "      <td>2</td>\n",
       "      <td>2</td>\n",
       "      <td>0</td>\n",
       "      <td>99.4</td>\n",
       "      <td>176.6</td>\n",
       "      <td>...</td>\n",
       "      <td>5</td>\n",
       "      <td>136</td>\n",
       "      <td>0</td>\n",
       "      <td>3.19</td>\n",
       "      <td>3.40</td>\n",
       "      <td>8</td>\n",
       "      <td>115</td>\n",
       "      <td>5500</td>\n",
       "      <td>18</td>\n",
       "      <td>22</td>\n",
       "    </tr>\n",
       "  </tbody>\n",
       "</table>\n",
       "<p>5 rows × 24 columns</p>\n",
       "</div>"
      ],
      "text/plain": [
       "   symboling  make  fuel_type  aspiration  num_of_doors  body_style  \\\n",
       "0          3     0          0           0             2           0   \n",
       "1          3     0          0           0             2           0   \n",
       "2          1     0          0           0             2           1   \n",
       "3          2     1          0           0             4           2   \n",
       "4          2     1          0           0             4           2   \n",
       "\n",
       "   drive_wheels  engine_location  wheel_base  length  ...  num_of_cylinders  \\\n",
       "0             0                0        88.6   168.8  ...                 4   \n",
       "1             0                0        88.6   168.8  ...                 4   \n",
       "2             0                0        94.5   171.2  ...                 6   \n",
       "3             1                0        99.8   176.6  ...                 4   \n",
       "4             2                0        99.4   176.6  ...                 5   \n",
       "\n",
       "   engine_size  fuel_system  bore  stroke  compression_ratio  horsepower  \\\n",
       "0          130            0  3.47    2.68                  9         111   \n",
       "1          130            0  3.47    2.68                  9         111   \n",
       "2          152            0  2.68    3.47                  9         154   \n",
       "3          109            0  3.19    3.40                 10         102   \n",
       "4          136            0  3.19    3.40                  8         115   \n",
       "\n",
       "   peak_rpm  city_mpg  highway_mpg  \n",
       "0      5000        21           27  \n",
       "1      5000        21           27  \n",
       "2      5000        19           26  \n",
       "3      5500        24           30  \n",
       "4      5500        18           22  \n",
       "\n",
       "[5 rows x 24 columns]"
      ]
     },
     "metadata": {},
     "output_type": "display_data"
    },
    {
     "data": {
      "text/plain": [
       "symboling       True\n",
       "make            True\n",
       "fuel_type       True\n",
       "aspiration      True\n",
       "num_of_doors    True\n",
       "dtype: bool"
      ]
     },
     "metadata": {},
     "output_type": "display_data"
    }
   ],
   "source": [
    "X = autos.copy()\n",
    "y = X.pop(\"price\")\n",
    "\n",
    "# Label encoding for categoricals\n",
    "for colname in X.select_dtypes(\"object\"):\n",
    "    X[colname], _ = X[colname].factorize()\n",
    "\n",
    "# All discrete features should now have integer dtypes (double-check this before using MI!)\n",
    "discrete_features = X.dtypes == int\n",
    "\n",
    "display(X.head())\n",
    "display(discrete_features.head())"
   ]
  },
  {
   "cell_type": "markdown",
   "id": "baa26547-6547-439a-842c-a2d7de817a43",
   "metadata": {},
   "source": [
    "Scikit-learn has two <u>mutual information metrics</u> in its `feature_selection module`: \n",
    "1. **real-valued** targets (`mutual_info_regression`)\n",
    "2. **categorical** targets (`mutual_info_classif`)\n",
    "\n",
    "Target `price` is real-valued. The next cell computes the MI scores for our features and wraps them up in a nice dataframe."
   ]
  },
  {
   "cell_type": "code",
   "execution_count": 6,
   "id": "532d8a45-0c0f-40db-a2c1-1b2a386e6892",
   "metadata": {},
   "outputs": [
    {
     "data": {
      "text/plain": [
       "curb_weight          1.573356\n",
       "highway_mpg          0.953293\n",
       "length               0.611632\n",
       "bore                 0.500135\n",
       "stroke               0.385483\n",
       "num_of_cylinders     0.330281\n",
       "compression_ratio    0.134394\n",
       "fuel_type            0.048139\n",
       "Name: MI Scores, dtype: float64"
      ]
     },
     "execution_count": 6,
     "metadata": {},
     "output_type": "execute_result"
    }
   ],
   "source": [
    "from sklearn.feature_selection import mutual_info_regression\n",
    "import numpy as np\n",
    "\n",
    "\n",
    "def make_mi_scores(X, y, discrete_features):\n",
    "    # Compute MI with mutual_info_regression() method\n",
    "    mi_scores = mutual_info_regression(\n",
    "        X,   # Feature dataframe.\n",
    "        y,   # Target series\n",
    "        discrete_features=discrete_features #\n",
    "    )\n",
    "    mi_scores = pd.Series(mi_scores, name=\"MI Scores\", index=X.columns)\n",
    "    mi_scores = mi_scores.sort_values(ascending=False)\n",
    "    return mi_scores\n",
    "\n",
    "mi_scores = make_mi_scores(X, y, discrete_features)\n",
    "\n",
    "# show a few features with their MI scores (show 1 from every 3 rows)\n",
    "mi_scores[::3]  "
   ]
  },
  {
   "cell_type": "markdown",
   "id": "3b5095f1-d40c-4f9b-9a93-3851fb9abf6a",
   "metadata": {},
   "source": [
    "And now a bar plot to make comparisions easier:"
   ]
  },
  {
   "cell_type": "code",
   "execution_count": 7,
   "id": "b152a58e-0fc0-4a3e-a17c-668af1e52179",
   "metadata": {},
   "outputs": [
    {
     "data": {
      "image/png": "[encoded data removed]",
      "text/plain": [
       "<Figure size 800x500 with 1 Axes>"
      ]
     },
     "metadata": {},
     "output_type": "display_data"
    }
   ],
   "source": [
    "def plot_mi_scores(scores):\n",
    "    scores = scores.sort_values(ascending=True)\n",
    "    width = np.arange(len(scores))\n",
    "    ticks = list(scores.index)\n",
    "    plt.barh(width, scores)\n",
    "    plt.yticks(width, ticks)\n",
    "    plt.title(\"Mutual Information Scores\")\n",
    "\n",
    "\n",
    "plt.figure(dpi=100, figsize=(8, 5))\n",
    "plot_mi_scores(mi_scores)"
   ]
  },
  {
   "cell_type": "markdown",
   "id": "1538d768-f912-4831-ac02-77096c4fdd03",
   "metadata": {},
   "source": [
    "Data visualization is a great follow-up to a utility ranking. Let's take a closer look at a couple of these.\n",
    "\n",
    "As we might expect, the high-scoring `curb_weight` feature exhibits a strong relationship with the target `price`."
   ]
  },
  {
   "cell_type": "code",
   "execution_count": 8,
   "id": "717d38e8-ad0e-48ba-b350-22f3b489d6b3",
   "metadata": {},
   "outputs": [
    {
     "data": {
      "image/png": "[encoded data removed]",
      "text/plain": [
       "<Figure size 500x500 with 1 Axes>"
      ]
     },
     "metadata": {},
     "output_type": "display_data"
    }
   ],
   "source": [
    "sns.relplot(\n",
    "    data=autos, \n",
    "    x=\"curb_weight\", \n",
    "    y=\"price\",\n",
    "    kind='scatter',   # the defaul and the same as sns.scatterplot()\n",
    ");"
   ]
  },
  {
   "cell_type": "markdown",
   "id": "89a69fc1-8011-4f01-afa8-5bdf90abd3f8",
   "metadata": {},
   "source": [
    "The `fuel_type` feature has a fairly low MI score. Let's add 'fuel_type' category to see the plot. "
   ]
  },
  {
   "cell_type": "code",
   "execution_count": 9,
   "id": "54faa936-674c-4dad-b85a-1d71b4e0db7f",
   "metadata": {},
   "outputs": [
    {
     "data": {
      "image/png": "[encoded data removed]",
      "text/plain": [
       "<Figure size 586.375x500 with 1 Axes>"
      ]
     },
     "metadata": {},
     "output_type": "display_data"
    }
   ],
   "source": [
    "sns.lmplot(\n",
    "    data=autos, \n",
    "    x=\"horsepower\", \n",
    "    y=\"price\", \n",
    "    hue=\"fuel_type\"  # colored categorical on fuel_type column\n",
    ");"
   ]
  },
  {
   "cell_type": "markdown",
   "id": "987a3625-5630-4b7c-a116-70e2262780ce",
   "metadata": {},
   "source": [
    "The `fuel_type` clearly separates two price populations with different trends within the horsepower feature. It indicates that `fuel_type` contributes an interaction effect and might not be unimportant after all. \n",
    "\n",
    "Before deciding a feature is unimportant from its MI score, it's good to investigate any possible interaction effects -- domain knowledge can offer a lot of guidance."
   ]
  },
  {
   "cell_type": "markdown",
   "id": "4025f76e-0b41-4847-ae72-9aa36bbf52ce",
   "metadata": {},
   "source": [
    "## Creat features"
   ]
  },
  {
   "cell_type": "markdown",
   "id": "5679f994-e1e8-4c90-b319-3602b36dc5a9",
   "metadata": {
    "editable": true,
    "slideshow": {
     "slide_type": ""
    },
    "tags": []
   },
   "source": [
    "### Mathematical Transforms"
   ]
  },
  {
   "cell_type": "markdown",
   "id": "769e83f1-ec14-4813-80fe-6f8afbcb36b4",
   "metadata": {},
   "source": [
    "In Pandas, you can apply arithmetic operations to columns just as if they were ordinary numbers."
   ]
  },
  {
   "cell_type": "code",
   "execution_count": 10,
   "id": "9dfb276f-95c1-4555-879f-2bf81411fdda",
   "metadata": {},
   "outputs": [
    {
     "data": {
      "text/html": [
       "<div>\n",
       "<style scoped>\n",
       "    .dataframe tbody tr th:only-of-type {\n",
       "        vertical-align: middle;\n",
       "    }\n",
       "\n",
       "    .dataframe tbody tr th {\n",
       "        vertical-align: top;\n",
       "    }\n",
       "\n",
       "    .dataframe thead th {\n",
       "        text-align: right;\n",
       "    }\n",
       "</style>\n",
       "<table border=\"1\" class=\"dataframe\">\n",
       "  <thead>\n",
       "    <tr style=\"text-align: right;\">\n",
       "      <th></th>\n",
       "      <th>stroke</th>\n",
       "      <th>bore</th>\n",
       "      <th>stroke_ratio</th>\n",
       "    </tr>\n",
       "  </thead>\n",
       "  <tbody>\n",
       "    <tr>\n",
       "      <th>0</th>\n",
       "      <td>2.68</td>\n",
       "      <td>3.47</td>\n",
       "      <td>0.772334</td>\n",
       "    </tr>\n",
       "    <tr>\n",
       "      <th>1</th>\n",
       "      <td>2.68</td>\n",
       "      <td>3.47</td>\n",
       "      <td>0.772334</td>\n",
       "    </tr>\n",
       "    <tr>\n",
       "      <th>2</th>\n",
       "      <td>3.47</td>\n",
       "      <td>2.68</td>\n",
       "      <td>1.294776</td>\n",
       "    </tr>\n",
       "    <tr>\n",
       "      <th>3</th>\n",
       "      <td>3.40</td>\n",
       "      <td>3.19</td>\n",
       "      <td>1.065831</td>\n",
       "    </tr>\n",
       "    <tr>\n",
       "      <th>4</th>\n",
       "      <td>3.40</td>\n",
       "      <td>3.19</td>\n",
       "      <td>1.065831</td>\n",
       "    </tr>\n",
       "  </tbody>\n",
       "</table>\n",
       "</div>"
      ],
      "text/plain": [
       "   stroke  bore  stroke_ratio\n",
       "0    2.68  3.47      0.772334\n",
       "1    2.68  3.47      0.772334\n",
       "2    3.47  2.68      1.294776\n",
       "3    3.40  3.19      1.065831\n",
       "4    3.40  3.19      1.065831"
      ]
     },
     "execution_count": 10,
     "metadata": {},
     "output_type": "execute_result"
    }
   ],
   "source": [
    "autos_trans = autos.copy()\n",
    "autos_trans[\"stroke_ratio\"] = autos.stroke / autos.bore\n",
    "\n",
    "autos_trans[[\"stroke\", \"bore\", \"stroke_ratio\"]].head()"
   ]
  },
  {
   "cell_type": "markdown",
   "id": "68f120be-a460-45e0-a2a3-ace9bdebe210",
   "metadata": {},
   "source": [
    "The more complicated a combination is, the more difficult for a model to learn. e.g."
   ]
  },
  {
   "cell_type": "code",
   "execution_count": 11,
   "id": "49cf8a6f-a407-4ac5-99b5-b84590cabcae",
   "metadata": {},
   "outputs": [],
   "source": [
    "autos[\"displacement\"] = (\n",
    "    np.pi * ((0.5 * autos.bore) ** 2) * autos.stroke * autos.num_of_cylinders\n",
    ")"
   ]
  },
  {
   "cell_type": "markdown",
   "id": "b16a234e-d15e-4d61-82cc-f359965d68f1",
   "metadata": {},
   "source": [
    "Data visualization can suggest transformations, often a \"reshaping\" of a feature through powers or logarithms. The distribution of `WindSpeed` in US Accidents is highly skewed, for instance. In this case the logarithm is effective at normalizing it:"
   ]
  },
  {
   "cell_type": "code",
   "execution_count": 12,
   "id": "0509da95-4d63-49e3-909b-36d2df9bcd7a",
   "metadata": {},
   "outputs": [
    {
     "data": {
      "text/html": [
       "<div>\n",
       "<style scoped>\n",
       "    .dataframe tbody tr th:only-of-type {\n",
       "        vertical-align: middle;\n",
       "    }\n",
       "\n",
       "    .dataframe tbody tr th {\n",
       "        vertical-align: top;\n",
       "    }\n",
       "\n",
       "    .dataframe thead th {\n",
       "        text-align: right;\n",
       "    }\n",
       "</style>\n",
       "<table border=\"1\" class=\"dataframe\">\n",
       "  <thead>\n",
       "    <tr style=\"text-align: right;\">\n",
       "      <th></th>\n",
       "      <th>Severity</th>\n",
       "      <th>StartTime</th>\n",
       "      <th>EndTime</th>\n",
       "      <th>StartLat</th>\n",
       "      <th>StartLng</th>\n",
       "      <th>Distance</th>\n",
       "      <th>Street</th>\n",
       "      <th>City</th>\n",
       "      <th>State</th>\n",
       "      <th>Zipcode</th>\n",
       "      <th>...</th>\n",
       "      <th>Crossing</th>\n",
       "      <th>GiveWay</th>\n",
       "      <th>Junction</th>\n",
       "      <th>NoExit</th>\n",
       "      <th>Railway</th>\n",
       "      <th>Roundabout</th>\n",
       "      <th>Station</th>\n",
       "      <th>Stop</th>\n",
       "      <th>TrafficCalming</th>\n",
       "      <th>TrafficSignal</th>\n",
       "    </tr>\n",
       "  </thead>\n",
       "  <tbody>\n",
       "    <tr>\n",
       "      <th>0</th>\n",
       "      <td>2</td>\n",
       "      <td>2019-07-22 14:43:06</td>\n",
       "      <td>2019-07-22 16:22:19</td>\n",
       "      <td>34.789009</td>\n",
       "      <td>-82.483383</td>\n",
       "      <td>0.000</td>\n",
       "      <td>Highway 153</td>\n",
       "      <td>Greenville</td>\n",
       "      <td>SC</td>\n",
       "      <td>29611</td>\n",
       "      <td>...</td>\n",
       "      <td>False</td>\n",
       "      <td>False</td>\n",
       "      <td>False</td>\n",
       "      <td>False</td>\n",
       "      <td>False</td>\n",
       "      <td>False</td>\n",
       "      <td>False</td>\n",
       "      <td>False</td>\n",
       "      <td>False</td>\n",
       "      <td>False</td>\n",
       "    </tr>\n",
       "    <tr>\n",
       "      <th>1</th>\n",
       "      <td>2</td>\n",
       "      <td>2019-03-20 16:12:14</td>\n",
       "      <td>2019-03-20 16:41:05</td>\n",
       "      <td>40.998264</td>\n",
       "      <td>-76.650396</td>\n",
       "      <td>0.472</td>\n",
       "      <td>Continental Blvd</td>\n",
       "      <td>Danville</td>\n",
       "      <td>PA</td>\n",
       "      <td>17821</td>\n",
       "      <td>...</td>\n",
       "      <td>False</td>\n",
       "      <td>False</td>\n",
       "      <td>False</td>\n",
       "      <td>False</td>\n",
       "      <td>False</td>\n",
       "      <td>False</td>\n",
       "      <td>False</td>\n",
       "      <td>False</td>\n",
       "      <td>False</td>\n",
       "      <td>False</td>\n",
       "    </tr>\n",
       "    <tr>\n",
       "      <th>2</th>\n",
       "      <td>3</td>\n",
       "      <td>2018-12-12 14:19:18</td>\n",
       "      <td>2018-12-12 14:48:56</td>\n",
       "      <td>33.461292</td>\n",
       "      <td>-112.082001</td>\n",
       "      <td>0.000</td>\n",
       "      <td>I-10 W</td>\n",
       "      <td>Phoenix</td>\n",
       "      <td>AZ</td>\n",
       "      <td>85003</td>\n",
       "      <td>...</td>\n",
       "      <td>False</td>\n",
       "      <td>False</td>\n",
       "      <td>False</td>\n",
       "      <td>False</td>\n",
       "      <td>False</td>\n",
       "      <td>False</td>\n",
       "      <td>False</td>\n",
       "      <td>False</td>\n",
       "      <td>False</td>\n",
       "      <td>False</td>\n",
       "    </tr>\n",
       "    <tr>\n",
       "      <th>3</th>\n",
       "      <td>2</td>\n",
       "      <td>2018-03-09 08:02:11</td>\n",
       "      <td>2018-03-09 08:49:15</td>\n",
       "      <td>42.288445</td>\n",
       "      <td>-87.924911</td>\n",
       "      <td>0.000</td>\n",
       "      <td>Oak Spring Rd</td>\n",
       "      <td>Libertyville</td>\n",
       "      <td>IL</td>\n",
       "      <td>60048</td>\n",
       "      <td>...</td>\n",
       "      <td>False</td>\n",
       "      <td>False</td>\n",
       "      <td>False</td>\n",
       "      <td>False</td>\n",
       "      <td>False</td>\n",
       "      <td>False</td>\n",
       "      <td>False</td>\n",
       "      <td>False</td>\n",
       "      <td>False</td>\n",
       "      <td>False</td>\n",
       "    </tr>\n",
       "    <tr>\n",
       "      <th>4</th>\n",
       "      <td>2</td>\n",
       "      <td>2020-03-27 05:36:56</td>\n",
       "      <td>2020-03-27 06:36:48</td>\n",
       "      <td>36.229259</td>\n",
       "      <td>-86.594650</td>\n",
       "      <td>0.000</td>\n",
       "      <td>Saundersville Rd</td>\n",
       "      <td>Old Hickory</td>\n",
       "      <td>TN</td>\n",
       "      <td>37138</td>\n",
       "      <td>...</td>\n",
       "      <td>False</td>\n",
       "      <td>False</td>\n",
       "      <td>False</td>\n",
       "      <td>False</td>\n",
       "      <td>False</td>\n",
       "      <td>False</td>\n",
       "      <td>False</td>\n",
       "      <td>False</td>\n",
       "      <td>False</td>\n",
       "      <td>False</td>\n",
       "    </tr>\n",
       "  </tbody>\n",
       "</table>\n",
       "<p>5 rows × 29 columns</p>\n",
       "</div>"
      ],
      "text/plain": [
       "   Severity            StartTime              EndTime   StartLat    StartLng  \\\n",
       "0         2  2019-07-22 14:43:06  2019-07-22 16:22:19  34.789009  -82.483383   \n",
       "1         2  2019-03-20 16:12:14  2019-03-20 16:41:05  40.998264  -76.650396   \n",
       "2         3  2018-12-12 14:19:18  2018-12-12 14:48:56  33.461292 -112.082001   \n",
       "3         2  2018-03-09 08:02:11  2018-03-09 08:49:15  42.288445  -87.924911   \n",
       "4         2  2020-03-27 05:36:56  2020-03-27 06:36:48  36.229259  -86.594650   \n",
       "\n",
       "   Distance             Street          City State  Zipcode  ...  Crossing  \\\n",
       "0     0.000        Highway 153    Greenville    SC    29611  ...     False   \n",
       "1     0.472   Continental Blvd      Danville    PA    17821  ...     False   \n",
       "2     0.000             I-10 W       Phoenix    AZ    85003  ...     False   \n",
       "3     0.000      Oak Spring Rd  Libertyville    IL    60048  ...     False   \n",
       "4     0.000   Saundersville Rd   Old Hickory    TN    37138  ...     False   \n",
       "\n",
       "   GiveWay  Junction  NoExit  Railway  Roundabout Station   Stop  \\\n",
       "0    False     False   False    False       False   False  False   \n",
       "1    False     False   False    False       False   False  False   \n",
       "2    False     False   False    False       False   False  False   \n",
       "3    False     False   False    False       False   False  False   \n",
       "4    False     False   False    False       False   False  False   \n",
       "\n",
       "   TrafficCalming  TrafficSignal  \n",
       "0           False          False  \n",
       "1           False          False  \n",
       "2           False          False  \n",
       "3           False          False  \n",
       "4           False          False  \n",
       "\n",
       "[5 rows x 29 columns]"
      ]
     },
     "execution_count": 12,
     "metadata": {},
     "output_type": "execute_result"
    }
   ],
   "source": [
    "accidents = pd.read_csv(\"data/accidents.csv\")\n",
    "accidents.head()"
   ]
  },
  {
   "cell_type": "code",
   "execution_count": 13,
   "id": "1bdcc455-0d1e-4f35-81d8-4075d9e08795",
   "metadata": {},
   "outputs": [
    {
     "data": {
      "image/png": "[encoded data removed]",
      "text/plain": [
       "<Figure size 800x400 with 2 Axes>"
      ]
     },
     "metadata": {},
     "output_type": "display_data"
    }
   ],
   "source": [
    "# If the feature has 0.0 values, use np.log1p (log(1+x)) instead of np.log\n",
    "accidents[\"LogWindSpeed\"] = accidents.WindSpeed.apply(np.log1p)\n",
    "\n",
    "# Plot a comparison\n",
    "fig, axs = plt.subplots(1, 2, figsize=(8, 4))\n",
    "sns.kdeplot(accidents.WindSpeed, fill=True, ax=axs[0])\n",
    "sns.kdeplot(accidents.LogWindSpeed, fill=True, ax=axs[1]);"
   ]
  },
  {
   "cell_type": "markdown",
   "id": "20dc08cb-c809-4358-b750-4097473bb7f6",
   "metadata": {},
   "source": [
    "### Counts"
   ]
  },
  {
   "cell_type": "markdown",
   "id": "dc4880a7-19cf-4799-a70f-a830448b09bb",
   "metadata": {},
   "source": [
    "Features describing the presence or absence will be binary (1 for Present, 0 for Absent) or boolean (True or False). You can aggregate such features by creating a **count**. \n",
    "\n",
    "In Python, booleans can be added up just as if they were integers.\n",
    "\n",
    "For instance, we will create a `count` of the total number of roadway objects(features) nearby the accidents using a sum method:"
   ]
  },
  {
   "cell_type": "code",
   "execution_count": 14,
   "id": "2c6db6fa-b2e0-45f7-baf7-17e6a382bacb",
   "metadata": {},
   "outputs": [
    {
     "data": {
      "text/html": [
       "<div>\n",
       "<style scoped>\n",
       "    .dataframe tbody tr th:only-of-type {\n",
       "        vertical-align: middle;\n",
       "    }\n",
       "\n",
       "    .dataframe tbody tr th {\n",
       "        vertical-align: top;\n",
       "    }\n",
       "\n",
       "    .dataframe thead th {\n",
       "        text-align: right;\n",
       "    }\n",
       "</style>\n",
       "<table border=\"1\" class=\"dataframe\">\n",
       "  <thead>\n",
       "    <tr style=\"text-align: right;\">\n",
       "      <th></th>\n",
       "      <th>Amenity</th>\n",
       "      <th>Bump</th>\n",
       "      <th>Crossing</th>\n",
       "      <th>GiveWay</th>\n",
       "      <th>Junction</th>\n",
       "      <th>NoExit</th>\n",
       "      <th>Railway</th>\n",
       "      <th>Roundabout</th>\n",
       "      <th>Station</th>\n",
       "      <th>Stop</th>\n",
       "      <th>TrafficCalming</th>\n",
       "      <th>TrafficSignal</th>\n",
       "      <th>RoadwayFeatures</th>\n",
       "    </tr>\n",
       "  </thead>\n",
       "  <tbody>\n",
       "    <tr>\n",
       "      <th>0</th>\n",
       "      <td>False</td>\n",
       "      <td>False</td>\n",
       "      <td>False</td>\n",
       "      <td>False</td>\n",
       "      <td>False</td>\n",
       "      <td>False</td>\n",
       "      <td>False</td>\n",
       "      <td>False</td>\n",
       "      <td>False</td>\n",
       "      <td>False</td>\n",
       "      <td>False</td>\n",
       "      <td>False</td>\n",
       "      <td>0</td>\n",
       "    </tr>\n",
       "    <tr>\n",
       "      <th>1</th>\n",
       "      <td>False</td>\n",
       "      <td>False</td>\n",
       "      <td>False</td>\n",
       "      <td>False</td>\n",
       "      <td>False</td>\n",
       "      <td>False</td>\n",
       "      <td>False</td>\n",
       "      <td>False</td>\n",
       "      <td>False</td>\n",
       "      <td>False</td>\n",
       "      <td>False</td>\n",
       "      <td>False</td>\n",
       "      <td>0</td>\n",
       "    </tr>\n",
       "    <tr>\n",
       "      <th>2</th>\n",
       "      <td>False</td>\n",
       "      <td>False</td>\n",
       "      <td>False</td>\n",
       "      <td>False</td>\n",
       "      <td>False</td>\n",
       "      <td>False</td>\n",
       "      <td>False</td>\n",
       "      <td>False</td>\n",
       "      <td>False</td>\n",
       "      <td>False</td>\n",
       "      <td>False</td>\n",
       "      <td>False</td>\n",
       "      <td>0</td>\n",
       "    </tr>\n",
       "    <tr>\n",
       "      <th>3</th>\n",
       "      <td>False</td>\n",
       "      <td>False</td>\n",
       "      <td>False</td>\n",
       "      <td>False</td>\n",
       "      <td>False</td>\n",
       "      <td>False</td>\n",
       "      <td>False</td>\n",
       "      <td>False</td>\n",
       "      <td>False</td>\n",
       "      <td>False</td>\n",
       "      <td>False</td>\n",
       "      <td>False</td>\n",
       "      <td>0</td>\n",
       "    </tr>\n",
       "    <tr>\n",
       "      <th>4</th>\n",
       "      <td>False</td>\n",
       "      <td>False</td>\n",
       "      <td>False</td>\n",
       "      <td>False</td>\n",
       "      <td>False</td>\n",
       "      <td>False</td>\n",
       "      <td>False</td>\n",
       "      <td>False</td>\n",
       "      <td>False</td>\n",
       "      <td>False</td>\n",
       "      <td>False</td>\n",
       "      <td>False</td>\n",
       "      <td>0</td>\n",
       "    </tr>\n",
       "    <tr>\n",
       "      <th>5</th>\n",
       "      <td>False</td>\n",
       "      <td>False</td>\n",
       "      <td>False</td>\n",
       "      <td>False</td>\n",
       "      <td>True</td>\n",
       "      <td>False</td>\n",
       "      <td>False</td>\n",
       "      <td>False</td>\n",
       "      <td>False</td>\n",
       "      <td>False</td>\n",
       "      <td>False</td>\n",
       "      <td>False</td>\n",
       "      <td>1</td>\n",
       "    </tr>\n",
       "    <tr>\n",
       "      <th>6</th>\n",
       "      <td>False</td>\n",
       "      <td>False</td>\n",
       "      <td>False</td>\n",
       "      <td>False</td>\n",
       "      <td>False</td>\n",
       "      <td>False</td>\n",
       "      <td>False</td>\n",
       "      <td>False</td>\n",
       "      <td>False</td>\n",
       "      <td>False</td>\n",
       "      <td>False</td>\n",
       "      <td>False</td>\n",
       "      <td>0</td>\n",
       "    </tr>\n",
       "    <tr>\n",
       "      <th>7</th>\n",
       "      <td>False</td>\n",
       "      <td>False</td>\n",
       "      <td>True</td>\n",
       "      <td>False</td>\n",
       "      <td>False</td>\n",
       "      <td>False</td>\n",
       "      <td>False</td>\n",
       "      <td>False</td>\n",
       "      <td>False</td>\n",
       "      <td>False</td>\n",
       "      <td>False</td>\n",
       "      <td>True</td>\n",
       "      <td>2</td>\n",
       "    </tr>\n",
       "    <tr>\n",
       "      <th>8</th>\n",
       "      <td>False</td>\n",
       "      <td>False</td>\n",
       "      <td>True</td>\n",
       "      <td>False</td>\n",
       "      <td>False</td>\n",
       "      <td>False</td>\n",
       "      <td>False</td>\n",
       "      <td>False</td>\n",
       "      <td>False</td>\n",
       "      <td>False</td>\n",
       "      <td>False</td>\n",
       "      <td>True</td>\n",
       "      <td>2</td>\n",
       "    </tr>\n",
       "    <tr>\n",
       "      <th>9</th>\n",
       "      <td>False</td>\n",
       "      <td>False</td>\n",
       "      <td>False</td>\n",
       "      <td>False</td>\n",
       "      <td>False</td>\n",
       "      <td>False</td>\n",
       "      <td>False</td>\n",
       "      <td>False</td>\n",
       "      <td>False</td>\n",
       "      <td>False</td>\n",
       "      <td>False</td>\n",
       "      <td>False</td>\n",
       "      <td>0</td>\n",
       "    </tr>\n",
       "  </tbody>\n",
       "</table>\n",
       "</div>"
      ],
      "text/plain": [
       "   Amenity   Bump  Crossing  GiveWay  Junction  NoExit  Railway  Roundabout  \\\n",
       "0    False  False     False    False     False   False    False       False   \n",
       "1    False  False     False    False     False   False    False       False   \n",
       "2    False  False     False    False     False   False    False       False   \n",
       "3    False  False     False    False     False   False    False       False   \n",
       "4    False  False     False    False     False   False    False       False   \n",
       "5    False  False     False    False      True   False    False       False   \n",
       "6    False  False     False    False     False   False    False       False   \n",
       "7    False  False      True    False     False   False    False       False   \n",
       "8    False  False      True    False     False   False    False       False   \n",
       "9    False  False     False    False     False   False    False       False   \n",
       "\n",
       "   Station   Stop  TrafficCalming  TrafficSignal  RoadwayFeatures  \n",
       "0    False  False           False          False                0  \n",
       "1    False  False           False          False                0  \n",
       "2    False  False           False          False                0  \n",
       "3    False  False           False          False                0  \n",
       "4    False  False           False          False                0  \n",
       "5    False  False           False          False                1  \n",
       "6    False  False           False          False                0  \n",
       "7    False  False           False           True                2  \n",
       "8    False  False           False           True                2  \n",
       "9    False  False           False          False                0  "
      ]
     },
     "execution_count": 14,
     "metadata": {},
     "output_type": "execute_result"
    }
   ],
   "source": [
    "roadway_features = [\"Amenity\", \"Bump\", \"Crossing\", \"GiveWay\",\n",
    "    \"Junction\", \"NoExit\", \"Railway\", \"Roundabout\", \"Station\", \"Stop\",\n",
    "    \"TrafficCalming\", \"TrafficSignal\"]\n",
    "accidents[\"RoadwayFeatures\"] = accidents[roadway_features].sum(axis=1)\n",
    "\n",
    "accidents[roadway_features + [\"RoadwayFeatures\"]].head(10)"
   ]
  },
  {
   "cell_type": "markdown",
   "id": "a5e79287-2eec-42e1-a875-411cdc2a527a",
   "metadata": {},
   "source": [
    "You could also use a dataframe's built-in methods to create boolean values. In the Concrete dataset are the amounts of components in a concrete formulation. Many formulations lack one or more components (that is, the component has a value of 0). This will count how many components are in a formulation with the dataframe's built-in greater-than `gt` method:"
   ]
  },
  {
   "cell_type": "code",
   "execution_count": 15,
   "id": "82cc6c8b-5a2b-431b-98c9-88d641133115",
   "metadata": {},
   "outputs": [
    {
     "data": {
      "text/html": [
       "<div>\n",
       "<style scoped>\n",
       "    .dataframe tbody tr th:only-of-type {\n",
       "        vertical-align: middle;\n",
       "    }\n",
       "\n",
       "    .dataframe tbody tr th {\n",
       "        vertical-align: top;\n",
       "    }\n",
       "\n",
       "    .dataframe thead th {\n",
       "        text-align: right;\n",
       "    }\n",
       "</style>\n",
       "<table border=\"1\" class=\"dataframe\">\n",
       "  <thead>\n",
       "    <tr style=\"text-align: right;\">\n",
       "      <th></th>\n",
       "      <th>Cement</th>\n",
       "      <th>BlastFurnaceSlag</th>\n",
       "      <th>FlyAsh</th>\n",
       "      <th>Water</th>\n",
       "      <th>Superplasticizer</th>\n",
       "      <th>CoarseAggregate</th>\n",
       "      <th>FineAggregate</th>\n",
       "      <th>Components</th>\n",
       "    </tr>\n",
       "  </thead>\n",
       "  <tbody>\n",
       "    <tr>\n",
       "      <th>0</th>\n",
       "      <td>540.0</td>\n",
       "      <td>0.0</td>\n",
       "      <td>0.0</td>\n",
       "      <td>162.0</td>\n",
       "      <td>2.5</td>\n",
       "      <td>1040.0</td>\n",
       "      <td>676.0</td>\n",
       "      <td>5</td>\n",
       "    </tr>\n",
       "    <tr>\n",
       "      <th>1</th>\n",
       "      <td>540.0</td>\n",
       "      <td>0.0</td>\n",
       "      <td>0.0</td>\n",
       "      <td>162.0</td>\n",
       "      <td>2.5</td>\n",
       "      <td>1055.0</td>\n",
       "      <td>676.0</td>\n",
       "      <td>5</td>\n",
       "    </tr>\n",
       "    <tr>\n",
       "      <th>2</th>\n",
       "      <td>332.5</td>\n",
       "      <td>142.5</td>\n",
       "      <td>0.0</td>\n",
       "      <td>228.0</td>\n",
       "      <td>0.0</td>\n",
       "      <td>932.0</td>\n",
       "      <td>594.0</td>\n",
       "      <td>5</td>\n",
       "    </tr>\n",
       "    <tr>\n",
       "      <th>3</th>\n",
       "      <td>332.5</td>\n",
       "      <td>142.5</td>\n",
       "      <td>0.0</td>\n",
       "      <td>228.0</td>\n",
       "      <td>0.0</td>\n",
       "      <td>932.0</td>\n",
       "      <td>594.0</td>\n",
       "      <td>5</td>\n",
       "    </tr>\n",
       "    <tr>\n",
       "      <th>4</th>\n",
       "      <td>198.6</td>\n",
       "      <td>132.4</td>\n",
       "      <td>0.0</td>\n",
       "      <td>192.0</td>\n",
       "      <td>0.0</td>\n",
       "      <td>978.4</td>\n",
       "      <td>825.5</td>\n",
       "      <td>5</td>\n",
       "    </tr>\n",
       "    <tr>\n",
       "      <th>5</th>\n",
       "      <td>266.0</td>\n",
       "      <td>114.0</td>\n",
       "      <td>0.0</td>\n",
       "      <td>228.0</td>\n",
       "      <td>0.0</td>\n",
       "      <td>932.0</td>\n",
       "      <td>670.0</td>\n",
       "      <td>5</td>\n",
       "    </tr>\n",
       "    <tr>\n",
       "      <th>6</th>\n",
       "      <td>380.0</td>\n",
       "      <td>95.0</td>\n",
       "      <td>0.0</td>\n",
       "      <td>228.0</td>\n",
       "      <td>0.0</td>\n",
       "      <td>932.0</td>\n",
       "      <td>594.0</td>\n",
       "      <td>5</td>\n",
       "    </tr>\n",
       "    <tr>\n",
       "      <th>7</th>\n",
       "      <td>380.0</td>\n",
       "      <td>95.0</td>\n",
       "      <td>0.0</td>\n",
       "      <td>228.0</td>\n",
       "      <td>0.0</td>\n",
       "      <td>932.0</td>\n",
       "      <td>594.0</td>\n",
       "      <td>5</td>\n",
       "    </tr>\n",
       "    <tr>\n",
       "      <th>8</th>\n",
       "      <td>266.0</td>\n",
       "      <td>114.0</td>\n",
       "      <td>0.0</td>\n",
       "      <td>228.0</td>\n",
       "      <td>0.0</td>\n",
       "      <td>932.0</td>\n",
       "      <td>670.0</td>\n",
       "      <td>5</td>\n",
       "    </tr>\n",
       "    <tr>\n",
       "      <th>9</th>\n",
       "      <td>475.0</td>\n",
       "      <td>0.0</td>\n",
       "      <td>0.0</td>\n",
       "      <td>228.0</td>\n",
       "      <td>0.0</td>\n",
       "      <td>932.0</td>\n",
       "      <td>594.0</td>\n",
       "      <td>4</td>\n",
       "    </tr>\n",
       "  </tbody>\n",
       "</table>\n",
       "</div>"
      ],
      "text/plain": [
       "   Cement  BlastFurnaceSlag  FlyAsh  Water  Superplasticizer  CoarseAggregate  \\\n",
       "0   540.0               0.0     0.0  162.0               2.5           1040.0   \n",
       "1   540.0               0.0     0.0  162.0               2.5           1055.0   \n",
       "2   332.5             142.5     0.0  228.0               0.0            932.0   \n",
       "3   332.5             142.5     0.0  228.0               0.0            932.0   \n",
       "4   198.6             132.4     0.0  192.0               0.0            978.4   \n",
       "5   266.0             114.0     0.0  228.0               0.0            932.0   \n",
       "6   380.0              95.0     0.0  228.0               0.0            932.0   \n",
       "7   380.0              95.0     0.0  228.0               0.0            932.0   \n",
       "8   266.0             114.0     0.0  228.0               0.0            932.0   \n",
       "9   475.0               0.0     0.0  228.0               0.0            932.0   \n",
       "\n",
       "   FineAggregate  Components  \n",
       "0          676.0           5  \n",
       "1          676.0           5  \n",
       "2          594.0           5  \n",
       "3          594.0           5  \n",
       "4          825.5           5  \n",
       "5          670.0           5  \n",
       "6          594.0           5  \n",
       "7          594.0           5  \n",
       "8          670.0           5  \n",
       "9          594.0           4  "
      ]
     },
     "execution_count": 15,
     "metadata": {},
     "output_type": "execute_result"
    }
   ],
   "source": [
    "components = [ \"Cement\", \"BlastFurnaceSlag\", \"FlyAsh\", \"Water\",\n",
    "               \"Superplasticizer\", \"CoarseAggregate\", \"FineAggregate\"]\n",
    "\n",
    "# .gt(0) creates boolean vectors\n",
    "concrete[\"Components\"] = concrete[components].gt(0).sum(axis=1)\n",
    "\n",
    "concrete[components + [\"Components\"]].head(10)"
   ]
  },
  {
   "cell_type": "markdown",
   "id": "7b22328b-bd4d-4b23-b1f4-dbe70744f968",
   "metadata": {},
   "source": [
    "### Building-Up and Breaking-Down Features"
   ]
  },
  {
   "cell_type": "markdown",
   "id": "cd4222b9-1741-4d8a-b4b8-cec4c8a8314c",
   "metadata": {},
   "source": [
    "#### Breaking down\n",
    "\n",
    "Create two new features from a feature though str.split() method."
   ]
  },
  {
   "cell_type": "code",
   "execution_count": 16,
   "id": "1e1d2a4b-009c-4763-a400-bc098102951b",
   "metadata": {},
   "outputs": [
    {
     "data": {
      "text/html": [
       "<div>\n",
       "<style scoped>\n",
       "    .dataframe tbody tr th:only-of-type {\n",
       "        vertical-align: middle;\n",
       "    }\n",
       "\n",
       "    .dataframe tbody tr th {\n",
       "        vertical-align: top;\n",
       "    }\n",
       "\n",
       "    .dataframe thead th {\n",
       "        text-align: right;\n",
       "    }\n",
       "</style>\n",
       "<table border=\"1\" class=\"dataframe\">\n",
       "  <thead>\n",
       "    <tr style=\"text-align: right;\">\n",
       "      <th></th>\n",
       "      <th>Policy</th>\n",
       "      <th>Type</th>\n",
       "      <th>Level</th>\n",
       "    </tr>\n",
       "  </thead>\n",
       "  <tbody>\n",
       "    <tr>\n",
       "      <th>0</th>\n",
       "      <td>Corporate L3</td>\n",
       "      <td>Corporate</td>\n",
       "      <td>L3</td>\n",
       "    </tr>\n",
       "    <tr>\n",
       "      <th>1</th>\n",
       "      <td>Personal L3</td>\n",
       "      <td>Personal</td>\n",
       "      <td>L3</td>\n",
       "    </tr>\n",
       "    <tr>\n",
       "      <th>2</th>\n",
       "      <td>Personal L3</td>\n",
       "      <td>Personal</td>\n",
       "      <td>L3</td>\n",
       "    </tr>\n",
       "    <tr>\n",
       "      <th>3</th>\n",
       "      <td>Corporate L2</td>\n",
       "      <td>Corporate</td>\n",
       "      <td>L2</td>\n",
       "    </tr>\n",
       "    <tr>\n",
       "      <th>4</th>\n",
       "      <td>Personal L1</td>\n",
       "      <td>Personal</td>\n",
       "      <td>L1</td>\n",
       "    </tr>\n",
       "    <tr>\n",
       "      <th>5</th>\n",
       "      <td>Personal L3</td>\n",
       "      <td>Personal</td>\n",
       "      <td>L3</td>\n",
       "    </tr>\n",
       "    <tr>\n",
       "      <th>6</th>\n",
       "      <td>Corporate L3</td>\n",
       "      <td>Corporate</td>\n",
       "      <td>L3</td>\n",
       "    </tr>\n",
       "    <tr>\n",
       "      <th>7</th>\n",
       "      <td>Corporate L3</td>\n",
       "      <td>Corporate</td>\n",
       "      <td>L3</td>\n",
       "    </tr>\n",
       "    <tr>\n",
       "      <th>8</th>\n",
       "      <td>Corporate L3</td>\n",
       "      <td>Corporate</td>\n",
       "      <td>L3</td>\n",
       "    </tr>\n",
       "    <tr>\n",
       "      <th>9</th>\n",
       "      <td>Special L2</td>\n",
       "      <td>Special</td>\n",
       "      <td>L2</td>\n",
       "    </tr>\n",
       "  </tbody>\n",
       "</table>\n",
       "</div>"
      ],
      "text/plain": [
       "         Policy       Type Level\n",
       "0  Corporate L3  Corporate    L3\n",
       "1   Personal L3   Personal    L3\n",
       "2   Personal L3   Personal    L3\n",
       "3  Corporate L2  Corporate    L2\n",
       "4   Personal L1   Personal    L1\n",
       "5   Personal L3   Personal    L3\n",
       "6  Corporate L3  Corporate    L3\n",
       "7  Corporate L3  Corporate    L3\n",
       "8  Corporate L3  Corporate    L3\n",
       "9    Special L2    Special    L2"
      ]
     },
     "execution_count": 16,
     "metadata": {},
     "output_type": "execute_result"
    }
   ],
   "source": [
    "customer = pd.read_csv(\"data/customer.csv\")\n",
    "\n",
    "customer[[\"Type\", \"Level\"]] = (  # Create two new features\n",
    "    customer[\"Policy\"]           # from the Policy feature\n",
    "    .str                         # through the string accessor\n",
    "    .split(\" \", expand=True)     # by splitting on \" \"\n",
    "                                 # and expanding the result into separate columns\n",
    ")\n",
    "\n",
    "customer[[\"Policy\", \"Type\", \"Level\"]].head(10)"
   ]
  },
  {
   "cell_type": "markdown",
   "id": "2c6c9af5-7b3b-4eb7-be25-5e3ac7a53018",
   "metadata": {},
   "source": [
    "#### Bring-up\n",
    "You could also join simple features into a composed feature if you believe there was some interaction in the combination:"
   ]
  },
  {
   "cell_type": "code",
   "execution_count": 17,
   "id": "ece8153c-3124-44ac-9b3b-e411af2386b9",
   "metadata": {},
   "outputs": [
    {
     "data": {
      "text/html": [
       "<div>\n",
       "<style scoped>\n",
       "    .dataframe tbody tr th:only-of-type {\n",
       "        vertical-align: middle;\n",
       "    }\n",
       "\n",
       "    .dataframe tbody tr th {\n",
       "        vertical-align: top;\n",
       "    }\n",
       "\n",
       "    .dataframe thead th {\n",
       "        text-align: right;\n",
       "    }\n",
       "</style>\n",
       "<table border=\"1\" class=\"dataframe\">\n",
       "  <thead>\n",
       "    <tr style=\"text-align: right;\">\n",
       "      <th></th>\n",
       "      <th>make</th>\n",
       "      <th>body_style</th>\n",
       "      <th>make_and_style</th>\n",
       "    </tr>\n",
       "  </thead>\n",
       "  <tbody>\n",
       "    <tr>\n",
       "      <th>0</th>\n",
       "      <td>alfa-romero</td>\n",
       "      <td>convertible</td>\n",
       "      <td>alfa-romero_convertible</td>\n",
       "    </tr>\n",
       "    <tr>\n",
       "      <th>1</th>\n",
       "      <td>alfa-romero</td>\n",
       "      <td>convertible</td>\n",
       "      <td>alfa-romero_convertible</td>\n",
       "    </tr>\n",
       "    <tr>\n",
       "      <th>2</th>\n",
       "      <td>alfa-romero</td>\n",
       "      <td>hatchback</td>\n",
       "      <td>alfa-romero_hatchback</td>\n",
       "    </tr>\n",
       "    <tr>\n",
       "      <th>3</th>\n",
       "      <td>audi</td>\n",
       "      <td>sedan</td>\n",
       "      <td>audi_sedan</td>\n",
       "    </tr>\n",
       "    <tr>\n",
       "      <th>4</th>\n",
       "      <td>audi</td>\n",
       "      <td>sedan</td>\n",
       "      <td>audi_sedan</td>\n",
       "    </tr>\n",
       "  </tbody>\n",
       "</table>\n",
       "</div>"
      ],
      "text/plain": [
       "          make   body_style           make_and_style\n",
       "0  alfa-romero  convertible  alfa-romero_convertible\n",
       "1  alfa-romero  convertible  alfa-romero_convertible\n",
       "2  alfa-romero    hatchback    alfa-romero_hatchback\n",
       "3         audi        sedan               audi_sedan\n",
       "4         audi        sedan               audi_sedan"
      ]
     },
     "execution_count": 17,
     "metadata": {},
     "output_type": "execute_result"
    }
   ],
   "source": [
    "autos[\"make_and_style\"] = autos[\"make\"] + \"_\" + autos[\"body_style\"]\n",
    "autos[[\"make\", \"body_style\", \"make_and_style\"]].head()"
   ]
  },
  {
   "cell_type": "markdown",
   "id": "b3e7b984-4a9f-4c9d-9be9-bea05e1b026e",
   "metadata": {},
   "source": [
    "There are a few other kinds of data we haven't talked about here \n",
    "  * For dates and times, see Parsing Dates from our [Data Cleaning](https://www.kaggle.com/code/alexisbcook/parsing-dates/tutorial) course.\n",
    "  * For latitudes and longitudes, see our [Geospatial Analysis](https://www.kaggle.com/learn/geospatial-analysis) course."
   ]
  },
  {
   "cell_type": "markdown",
   "id": "ee86f559-8d5e-4f95-b779-a7c95f02ca8e",
   "metadata": {},
   "source": [
    "### Group Transforms"
   ]
  },
  {
   "cell_type": "markdown",
   "id": "7a6aa61d-2758-4a26-b2b2-f266ec7629ae",
   "metadata": {},
   "source": [
    "**Group transforms** aggregate information across multiple rows grouped by some category. With it, you can create features like: \"the average income of a state\".\n",
    "\n",
    "1. See the original dataset"
   ]
  },
  {
   "cell_type": "code",
   "execution_count": 18,
   "id": "681cc17a-401e-4e66-9d69-692a36f1bc11",
   "metadata": {},
   "outputs": [
    {
     "data": {
      "text/html": [
       "<div>\n",
       "<style scoped>\n",
       "    .dataframe tbody tr th:only-of-type {\n",
       "        vertical-align: middle;\n",
       "    }\n",
       "\n",
       "    .dataframe tbody tr th {\n",
       "        vertical-align: top;\n",
       "    }\n",
       "\n",
       "    .dataframe thead th {\n",
       "        text-align: right;\n",
       "    }\n",
       "</style>\n",
       "<table border=\"1\" class=\"dataframe\">\n",
       "  <thead>\n",
       "    <tr style=\"text-align: right;\">\n",
       "      <th></th>\n",
       "      <th>State</th>\n",
       "      <th>Income</th>\n",
       "    </tr>\n",
       "  </thead>\n",
       "  <tbody>\n",
       "    <tr>\n",
       "      <th>0</th>\n",
       "      <td>Washington</td>\n",
       "      <td>56274</td>\n",
       "    </tr>\n",
       "    <tr>\n",
       "      <th>1</th>\n",
       "      <td>Arizona</td>\n",
       "      <td>0</td>\n",
       "    </tr>\n",
       "    <tr>\n",
       "      <th>2</th>\n",
       "      <td>Nevada</td>\n",
       "      <td>48767</td>\n",
       "    </tr>\n",
       "    <tr>\n",
       "      <th>3</th>\n",
       "      <td>California</td>\n",
       "      <td>0</td>\n",
       "    </tr>\n",
       "    <tr>\n",
       "      <th>4</th>\n",
       "      <td>Washington</td>\n",
       "      <td>43836</td>\n",
       "    </tr>\n",
       "    <tr>\n",
       "      <th>...</th>\n",
       "      <td>...</td>\n",
       "      <td>...</td>\n",
       "    </tr>\n",
       "    <tr>\n",
       "      <th>9129</th>\n",
       "      <td>California</td>\n",
       "      <td>71941</td>\n",
       "    </tr>\n",
       "    <tr>\n",
       "      <th>9130</th>\n",
       "      <td>California</td>\n",
       "      <td>21604</td>\n",
       "    </tr>\n",
       "    <tr>\n",
       "      <th>9131</th>\n",
       "      <td>California</td>\n",
       "      <td>0</td>\n",
       "    </tr>\n",
       "    <tr>\n",
       "      <th>9132</th>\n",
       "      <td>California</td>\n",
       "      <td>21941</td>\n",
       "    </tr>\n",
       "    <tr>\n",
       "      <th>9133</th>\n",
       "      <td>California</td>\n",
       "      <td>0</td>\n",
       "    </tr>\n",
       "  </tbody>\n",
       "</table>\n",
       "<p>9134 rows × 2 columns</p>\n",
       "</div>"
      ],
      "text/plain": [
       "           State  Income\n",
       "0     Washington   56274\n",
       "1        Arizona       0\n",
       "2         Nevada   48767\n",
       "3     California       0\n",
       "4     Washington   43836\n",
       "...          ...     ...\n",
       "9129  California   71941\n",
       "9130  California   21604\n",
       "9131  California       0\n",
       "9132  California   21941\n",
       "9133  California       0\n",
       "\n",
       "[9134 rows x 2 columns]"
      ]
     },
     "execution_count": 18,
     "metadata": {},
     "output_type": "execute_result"
    }
   ],
   "source": [
    "customer[[\"State\", \"Income\"]]"
   ]
  },
  {
   "cell_type": "markdown",
   "id": "188b23b3-4e42-431d-8e73-7796b5a27579",
   "metadata": {},
   "source": [
    "2. Create a new feature `\"AverageIncome\"` with group transform."
   ]
  },
  {
   "cell_type": "code",
   "execution_count": 19,
   "id": "fcab911a-8a40-4293-8a89-e5b913f55991",
   "metadata": {},
   "outputs": [
    {
     "data": {
      "text/html": [
       "<div>\n",
       "<style scoped>\n",
       "    .dataframe tbody tr th:only-of-type {\n",
       "        vertical-align: middle;\n",
       "    }\n",
       "\n",
       "    .dataframe tbody tr th {\n",
       "        vertical-align: top;\n",
       "    }\n",
       "\n",
       "    .dataframe thead th {\n",
       "        text-align: right;\n",
       "    }\n",
       "</style>\n",
       "<table border=\"1\" class=\"dataframe\">\n",
       "  <thead>\n",
       "    <tr style=\"text-align: right;\">\n",
       "      <th></th>\n",
       "      <th>State</th>\n",
       "      <th>Income</th>\n",
       "      <th>AverageIncome</th>\n",
       "    </tr>\n",
       "  </thead>\n",
       "  <tbody>\n",
       "    <tr>\n",
       "      <th>0</th>\n",
       "      <td>Washington</td>\n",
       "      <td>56274</td>\n",
       "      <td>38122.733083</td>\n",
       "    </tr>\n",
       "    <tr>\n",
       "      <th>1</th>\n",
       "      <td>Arizona</td>\n",
       "      <td>0</td>\n",
       "      <td>37405.402231</td>\n",
       "    </tr>\n",
       "    <tr>\n",
       "      <th>2</th>\n",
       "      <td>Nevada</td>\n",
       "      <td>48767</td>\n",
       "      <td>38369.605442</td>\n",
       "    </tr>\n",
       "    <tr>\n",
       "      <th>3</th>\n",
       "      <td>California</td>\n",
       "      <td>0</td>\n",
       "      <td>37558.946667</td>\n",
       "    </tr>\n",
       "    <tr>\n",
       "      <th>4</th>\n",
       "      <td>Washington</td>\n",
       "      <td>43836</td>\n",
       "      <td>38122.733083</td>\n",
       "    </tr>\n",
       "    <tr>\n",
       "      <th>...</th>\n",
       "      <td>...</td>\n",
       "      <td>...</td>\n",
       "      <td>...</td>\n",
       "    </tr>\n",
       "    <tr>\n",
       "      <th>9129</th>\n",
       "      <td>California</td>\n",
       "      <td>71941</td>\n",
       "      <td>37558.946667</td>\n",
       "    </tr>\n",
       "    <tr>\n",
       "      <th>9130</th>\n",
       "      <td>California</td>\n",
       "      <td>21604</td>\n",
       "      <td>37558.946667</td>\n",
       "    </tr>\n",
       "    <tr>\n",
       "      <th>9131</th>\n",
       "      <td>California</td>\n",
       "      <td>0</td>\n",
       "      <td>37558.946667</td>\n",
       "    </tr>\n",
       "    <tr>\n",
       "      <th>9132</th>\n",
       "      <td>California</td>\n",
       "      <td>21941</td>\n",
       "      <td>37558.946667</td>\n",
       "    </tr>\n",
       "    <tr>\n",
       "      <th>9133</th>\n",
       "      <td>California</td>\n",
       "      <td>0</td>\n",
       "      <td>37558.946667</td>\n",
       "    </tr>\n",
       "  </tbody>\n",
       "</table>\n",
       "<p>9134 rows × 3 columns</p>\n",
       "</div>"
      ],
      "text/plain": [
       "           State  Income  AverageIncome\n",
       "0     Washington   56274   38122.733083\n",
       "1        Arizona       0   37405.402231\n",
       "2         Nevada   48767   38369.605442\n",
       "3     California       0   37558.946667\n",
       "4     Washington   43836   38122.733083\n",
       "...          ...     ...            ...\n",
       "9129  California   71941   37558.946667\n",
       "9130  California   21604   37558.946667\n",
       "9131  California       0   37558.946667\n",
       "9132  California   21941   37558.946667\n",
       "9133  California       0   37558.946667\n",
       "\n",
       "[9134 rows x 3 columns]"
      ]
     },
     "execution_count": 19,
     "metadata": {},
     "output_type": "execute_result"
    }
   ],
   "source": [
    "customer[\"AverageIncome\"] = (\n",
    "    customer.groupby(\"State\")  # for each state\n",
    "    [\"Income\"]                 # select the income\n",
    "    .transform(\"mean\")         # and compute its mean\n",
    ")\n",
    "\n",
    "customer[[\"State\", \"Income\", \"AverageIncome\"]]"
   ]
  },
  {
   "cell_type": "markdown",
   "id": "823f9417-2879-40bd-929e-06f43221bf85",
   "metadata": {},
   "source": [
    "The `mean` function is a built-in dataframe method. We pass it as a string to transform. Other handy methods include `max`, `min`, `median`, `var`, `std`, and `count`. \n",
    "\n",
    "Here's how you could calculate the frequency with which each state occurs in the dataset:"
   ]
  },
  {
   "cell_type": "code",
   "execution_count": 20,
   "id": "1a51fc09-dc2f-403b-a710-74488081951d",
   "metadata": {},
   "outputs": [
    {
     "data": {
      "text/html": [
       "<div>\n",
       "<style scoped>\n",
       "    .dataframe tbody tr th:only-of-type {\n",
       "        vertical-align: middle;\n",
       "    }\n",
       "\n",
       "    .dataframe tbody tr th {\n",
       "        vertical-align: top;\n",
       "    }\n",
       "\n",
       "    .dataframe thead th {\n",
       "        text-align: right;\n",
       "    }\n",
       "</style>\n",
       "<table border=\"1\" class=\"dataframe\">\n",
       "  <thead>\n",
       "    <tr style=\"text-align: right;\">\n",
       "      <th></th>\n",
       "      <th>State</th>\n",
       "      <th>StateFreq</th>\n",
       "    </tr>\n",
       "  </thead>\n",
       "  <tbody>\n",
       "    <tr>\n",
       "      <th>0</th>\n",
       "      <td>Washington</td>\n",
       "      <td>0.087366</td>\n",
       "    </tr>\n",
       "    <tr>\n",
       "      <th>1</th>\n",
       "      <td>Arizona</td>\n",
       "      <td>0.186446</td>\n",
       "    </tr>\n",
       "    <tr>\n",
       "      <th>2</th>\n",
       "      <td>Nevada</td>\n",
       "      <td>0.096562</td>\n",
       "    </tr>\n",
       "    <tr>\n",
       "      <th>3</th>\n",
       "      <td>California</td>\n",
       "      <td>0.344865</td>\n",
       "    </tr>\n",
       "    <tr>\n",
       "      <th>4</th>\n",
       "      <td>Washington</td>\n",
       "      <td>0.087366</td>\n",
       "    </tr>\n",
       "    <tr>\n",
       "      <th>5</th>\n",
       "      <td>Oregon</td>\n",
       "      <td>0.284760</td>\n",
       "    </tr>\n",
       "    <tr>\n",
       "      <th>6</th>\n",
       "      <td>Oregon</td>\n",
       "      <td>0.284760</td>\n",
       "    </tr>\n",
       "    <tr>\n",
       "      <th>7</th>\n",
       "      <td>Arizona</td>\n",
       "      <td>0.186446</td>\n",
       "    </tr>\n",
       "    <tr>\n",
       "      <th>8</th>\n",
       "      <td>Oregon</td>\n",
       "      <td>0.284760</td>\n",
       "    </tr>\n",
       "    <tr>\n",
       "      <th>9</th>\n",
       "      <td>Oregon</td>\n",
       "      <td>0.284760</td>\n",
       "    </tr>\n",
       "  </tbody>\n",
       "</table>\n",
       "</div>"
      ],
      "text/plain": [
       "        State  StateFreq\n",
       "0  Washington   0.087366\n",
       "1     Arizona   0.186446\n",
       "2      Nevada   0.096562\n",
       "3  California   0.344865\n",
       "4  Washington   0.087366\n",
       "5      Oregon   0.284760\n",
       "6      Oregon   0.284760\n",
       "7     Arizona   0.186446\n",
       "8      Oregon   0.284760\n",
       "9      Oregon   0.284760"
      ]
     },
     "execution_count": 20,
     "metadata": {},
     "output_type": "execute_result"
    }
   ],
   "source": [
    "customer[\"StateFreq\"] = (\n",
    "    customer.groupby(\"State\")\n",
    "    [\"State\"]\n",
    "    .transform(\"count\")\n",
    "    / customer.State.count()\n",
    ")\n",
    "\n",
    "customer[[\"State\", \"StateFreq\"]].head(10)"
   ]
  },
  {
   "cell_type": "markdown",
   "id": "7532c392-aa39-4569-8c32-e8ae3d7b942c",
   "metadata": {},
   "source": [
    "If you're using training and validation splits, to preserve their independence, it's best to create a grouped feature on training set only and then join it to the validation set. We can use the validation set's merge method after creating a unique set of values with drop_duplicates on the training set:"
   ]
  },
  {
   "cell_type": "code",
   "execution_count": 21,
   "id": "b90922ac-eac2-4e10-ab4f-2ceb945b4ff0",
   "metadata": {},
   "outputs": [
    {
     "data": {
      "text/html": [
       "<div>\n",
       "<style scoped>\n",
       "    .dataframe tbody tr th:only-of-type {\n",
       "        vertical-align: middle;\n",
       "    }\n",
       "\n",
       "    .dataframe tbody tr th {\n",
       "        vertical-align: top;\n",
       "    }\n",
       "\n",
       "    .dataframe thead th {\n",
       "        text-align: right;\n",
       "    }\n",
       "</style>\n",
       "<table border=\"1\" class=\"dataframe\">\n",
       "  <thead>\n",
       "    <tr style=\"text-align: right;\">\n",
       "      <th></th>\n",
       "      <th>Coverage</th>\n",
       "      <th>AverageClaim</th>\n",
       "    </tr>\n",
       "  </thead>\n",
       "  <tbody>\n",
       "    <tr>\n",
       "      <th>0</th>\n",
       "      <td>Basic</td>\n",
       "      <td>374.200817</td>\n",
       "    </tr>\n",
       "    <tr>\n",
       "      <th>1</th>\n",
       "      <td>Premium</td>\n",
       "      <td>665.165537</td>\n",
       "    </tr>\n",
       "    <tr>\n",
       "      <th>2</th>\n",
       "      <td>Basic</td>\n",
       "      <td>374.200817</td>\n",
       "    </tr>\n",
       "    <tr>\n",
       "      <th>3</th>\n",
       "      <td>Extended</td>\n",
       "      <td>474.775882</td>\n",
       "    </tr>\n",
       "    <tr>\n",
       "      <th>4</th>\n",
       "      <td>Basic</td>\n",
       "      <td>374.200817</td>\n",
       "    </tr>\n",
       "    <tr>\n",
       "      <th>5</th>\n",
       "      <td>Basic</td>\n",
       "      <td>374.200817</td>\n",
       "    </tr>\n",
       "    <tr>\n",
       "      <th>6</th>\n",
       "      <td>Basic</td>\n",
       "      <td>374.200817</td>\n",
       "    </tr>\n",
       "    <tr>\n",
       "      <th>7</th>\n",
       "      <td>Basic</td>\n",
       "      <td>374.200817</td>\n",
       "    </tr>\n",
       "    <tr>\n",
       "      <th>8</th>\n",
       "      <td>Basic</td>\n",
       "      <td>374.200817</td>\n",
       "    </tr>\n",
       "    <tr>\n",
       "      <th>9</th>\n",
       "      <td>Basic</td>\n",
       "      <td>374.200817</td>\n",
       "    </tr>\n",
       "  </tbody>\n",
       "</table>\n",
       "</div>"
      ],
      "text/plain": [
       "   Coverage  AverageClaim\n",
       "0     Basic    374.200817\n",
       "1   Premium    665.165537\n",
       "2     Basic    374.200817\n",
       "3  Extended    474.775882\n",
       "4     Basic    374.200817\n",
       "5     Basic    374.200817\n",
       "6     Basic    374.200817\n",
       "7     Basic    374.200817\n",
       "8     Basic    374.200817\n",
       "9     Basic    374.200817"
      ]
     },
     "execution_count": 21,
     "metadata": {},
     "output_type": "execute_result"
    }
   ],
   "source": [
    "# Create splits\n",
    "df_train = customer.sample(frac=0.5)\n",
    "df_valid = customer.drop(df_train.index)\n",
    "\n",
    "# Create the average claim amount by coverage type, on the training set\n",
    "df_train[\"AverageClaim\"] = df_train.groupby(\"Coverage\")[\"ClaimAmount\"].transform(\"mean\")\n",
    "\n",
    "# Merge the values into the validation set\n",
    "df_valid = df_valid.merge(\n",
    "    df_train[[\"Coverage\", \"AverageClaim\"]].drop_duplicates(),\n",
    "    on=\"Coverage\",\n",
    "    how=\"left\",\n",
    ")\n",
    "\n",
    "df_valid[[\"Coverage\", \"AverageClaim\"]].head(10)"
   ]
  },
  {
   "cell_type": "markdown",
   "id": "c620c9a6-cf9b-43d5-a5a6-5bedc587a520",
   "metadata": {},
   "source": [
    "### Tips on Creating Features\n",
    "Keep in mind your model's strengths and weaknesses when creating features. Here are some guidelines:\n",
    "* `Linear models` learn sums and differences naturally, but can't learn anything more complex.\n",
    "* `Ratios` seem to be difficult for most models to learn. Ratio combinations often lead to some easy performance gains.\n",
    "* `Linear models` and `neural networks` generally do better with normalized features.\n",
    "  * `Neural networks` especially need features scaled to values not too far from 0.\n",
    "  * `Tree-based models` (like random forests and XGBoost) can sometimes benefit from normalization, but usually much less so.\n",
    "* `Tree models` can learn to approximate almost any combination of features, but when a combination is especially important they can still benefit from having it explicitly created, especially when data is limited.\n",
    "* `Counts` are especially helpful for tree models, since these models don't have a natural way of aggregating information across many features at once."
   ]
  },
  {
   "cell_type": "markdown",
   "id": "c1253f63-b437-42ba-9c3f-53ecf7ff0c07",
   "metadata": {},
   "source": [
    "## Clustering With K-Means"
   ]
  },
  {
   "cell_type": "markdown",
   "id": "1107aef3-b749-45c1-a094-d733ae0d8460",
   "metadata": {},
   "source": [
    "Unsupervised algorithms don't make use of a target; instead, their purpose is to learn some property of the data. You could think of an unsupervised algorithm as a \"feature discovery\" technique.\n",
    "\n",
    "**Clustering** is to partition a dataset into subsets (or clusters). Data points within the same cluster are more similar to each other compared to those in other clusters."
   ]
  },
  {
   "cell_type": "markdown",
   "id": "ad161807-11b4-4816-b713-dbf84ae662cf",
   "metadata": {},
   "source": [
    "### k-Means Clustering"
   ]
  },
  {
   "cell_type": "markdown",
   "id": "9105e770-8e0b-4129-800e-001844550733",
   "metadata": {},
   "source": [
    "K-means clustering is widely used in various applications, including customer segmentation, image compression, anomaly detection, and document clustering.\n",
    "\n",
    "It is used for partitioning a dataset into a set of K distinct, non-overlapping clusters. The algorithm operates by iteratively assigning data points to the nearest cluster centroid and updating the centroids based on the mean of the data points assigned to each cluster"
   ]
  },
  {
   "cell_type": "markdown",
   "id": "b41cc466-d813-43f7-809b-f6b20e30b714",
   "metadata": {},
   "source": [
    "![k_mean_cluster](image/k_mean_cluster.jpg)"
   ]
  },
  {
   "cell_type": "markdown",
   "id": "df868b4c-5a2d-486b-a81e-f4aba7f8de80",
   "metadata": {},
   "source": [
    "Here's a high-level overview of the K-means algorithm:\n",
    "\n",
    "1. **Initialization**: Choose K initial cluster centroids randomly from the data points or using some heuristic. These centroids serve as the initial cluster centers.\n",
    "2. **Assignment Step**: Assign each data point to the nearest cluster centroid based on some distance metric, typically Euclidean distance. This step results in the formation of K clusters.\n",
    "3. **Update Step**: Recalculate the centroids of the clusters by computing the mean of all data points assigned to each cluster.\n",
    "4. **Iteration**: Repeat the assignment and update steps iteratively until convergence criteria are met. Convergence can be defined based on the change in cluster assignments or centroids between iterations, or after a fixed number of iterations.\n",
    "5. **Convergence**: The algorithm converges when the cluster assignments or centroids no longer change significantly between iterations, indicating that the clusters have stabilized.\n",
    "\n",
    "The performance can be sensitive to the initial selection of centroids, and it may converge to suboptimal solutions depending on the initialization. To mitigate this, the algorithm is often run multiple times with different initializations, and the solution with the lowest inertia is selected."
   ]
  },
  {
   "cell_type": "markdown",
   "id": "fcb59714-dc21-40fd-a05d-c9dfa2fcb99d",
   "metadata": {},
   "source": [
    "We use [<u>sklearn.cluster.KMeans(n_clusters: int, n_init='auto', max_iter=300)</u>](https://scikit-learn.org/stable/modules/generated/sklearn.cluster.KMeans.html).\n",
    "* n_clusters: value k\n",
    "* n_init: number of runs with different centroid seeds.\n",
    "* max_iter: Maximum number of iterations of the k-means algorithm for a single run."
   ]
  },
  {
   "cell_type": "markdown",
   "id": "06ff143b-f5f3-4d3f-b822-20db1f32f616",
   "metadata": {},
   "source": [
    "The animation below shows the algorithm in action. It illustrates the dependence of the result on the initial centroids and the importance of iterating until convergence.\n",
    "![k_mean_animation](image/k_mean_animation.gif)"
   ]
  },
  {
   "cell_type": "markdown",
   "id": "fcabdc7f-283e-4162-b7a9-737103c34a0d",
   "metadata": {},
   "source": [
    "### Example - California Housing"
   ]
  },
  {
   "cell_type": "code",
   "execution_count": 22,
   "id": "0967b188-1389-453e-afab-cedd6f78d9e9",
   "metadata": {},
   "outputs": [
    {
     "data": {
      "text/html": [
       "<div>\n",
       "<style scoped>\n",
       "    .dataframe tbody tr th:only-of-type {\n",
       "        vertical-align: middle;\n",
       "    }\n",
       "\n",
       "    .dataframe tbody tr th {\n",
       "        vertical-align: top;\n",
       "    }\n",
       "\n",
       "    .dataframe thead th {\n",
       "        text-align: right;\n",
       "    }\n",
       "</style>\n",
       "<table border=\"1\" class=\"dataframe\">\n",
       "  <thead>\n",
       "    <tr style=\"text-align: right;\">\n",
       "      <th></th>\n",
       "      <th>MedInc</th>\n",
       "      <th>Latitude</th>\n",
       "      <th>Longitude</th>\n",
       "    </tr>\n",
       "  </thead>\n",
       "  <tbody>\n",
       "    <tr>\n",
       "      <th>0</th>\n",
       "      <td>8.3252</td>\n",
       "      <td>37.88</td>\n",
       "      <td>-122.23</td>\n",
       "    </tr>\n",
       "    <tr>\n",
       "      <th>1</th>\n",
       "      <td>8.3014</td>\n",
       "      <td>37.86</td>\n",
       "      <td>-122.22</td>\n",
       "    </tr>\n",
       "    <tr>\n",
       "      <th>2</th>\n",
       "      <td>7.2574</td>\n",
       "      <td>37.85</td>\n",
       "      <td>-122.24</td>\n",
       "    </tr>\n",
       "    <tr>\n",
       "      <th>3</th>\n",
       "      <td>5.6431</td>\n",
       "      <td>37.85</td>\n",
       "      <td>-122.25</td>\n",
       "    </tr>\n",
       "    <tr>\n",
       "      <th>4</th>\n",
       "      <td>3.8462</td>\n",
       "      <td>37.85</td>\n",
       "      <td>-122.25</td>\n",
       "    </tr>\n",
       "  </tbody>\n",
       "</table>\n",
       "</div>"
      ],
      "text/plain": [
       "   MedInc  Latitude  Longitude\n",
       "0  8.3252     37.88    -122.23\n",
       "1  8.3014     37.86    -122.22\n",
       "2  7.2574     37.85    -122.24\n",
       "3  5.6431     37.85    -122.25\n",
       "4  3.8462     37.85    -122.25"
      ]
     },
     "execution_count": 22,
     "metadata": {},
     "output_type": "execute_result"
    }
   ],
   "source": [
    "from sklearn.cluster import KMeans\n",
    "\n",
    "sns.set_style(\"whitegrid\")\n",
    "plt.rc(\"figure\", autolayout=True)\n",
    "plt.rc(\n",
    "    \"axes\",\n",
    "    labelweight=\"bold\",\n",
    "    labelsize=\"large\",\n",
    "    titleweight=\"bold\",\n",
    "    titlesize=14,\n",
    "    titlepad=10,\n",
    ")\n",
    "\n",
    "housing = pd.read_csv(\"data/housing.csv\")\n",
    "\n",
    "# MedInc is \"median income\"\n",
    "X = housing.loc[:, [\"MedInc\", \"Latitude\", \"Longitude\"]]\n",
    "X.head()"
   ]
  },
  {
   "cell_type": "markdown",
   "id": "d29bec4a-1fca-4e43-b714-a618d07a0ba3",
   "metadata": {},
   "source": [
    "K-means clustering is sensitive to **scale**. It is better rescale or normalize data with extreme values. Our features are already roughly on the same scale, so we'll leave them as-is."
   ]
  },
  {
   "cell_type": "code",
   "execution_count": 23,
   "id": "e4f7d6cd-98ff-428b-935e-4e1285d393ae",
   "metadata": {},
   "outputs": [
    {
     "data": {
      "text/html": [
       "<div>\n",
       "<style scoped>\n",
       "    .dataframe tbody tr th:only-of-type {\n",
       "        vertical-align: middle;\n",
       "    }\n",
       "\n",
       "    .dataframe tbody tr th {\n",
       "        vertical-align: top;\n",
       "    }\n",
       "\n",
       "    .dataframe thead th {\n",
       "        text-align: right;\n",
       "    }\n",
       "</style>\n",
       "<table border=\"1\" class=\"dataframe\">\n",
       "  <thead>\n",
       "    <tr style=\"text-align: right;\">\n",
       "      <th></th>\n",
       "      <th>MedInc</th>\n",
       "      <th>Latitude</th>\n",
       "      <th>Longitude</th>\n",
       "      <th>Cluster</th>\n",
       "    </tr>\n",
       "  </thead>\n",
       "  <tbody>\n",
       "    <tr>\n",
       "      <th>0</th>\n",
       "      <td>8.3252</td>\n",
       "      <td>37.88</td>\n",
       "      <td>-122.23</td>\n",
       "      <td>1</td>\n",
       "    </tr>\n",
       "    <tr>\n",
       "      <th>1</th>\n",
       "      <td>8.3014</td>\n",
       "      <td>37.86</td>\n",
       "      <td>-122.22</td>\n",
       "      <td>1</td>\n",
       "    </tr>\n",
       "    <tr>\n",
       "      <th>2</th>\n",
       "      <td>7.2574</td>\n",
       "      <td>37.85</td>\n",
       "      <td>-122.24</td>\n",
       "      <td>1</td>\n",
       "    </tr>\n",
       "    <tr>\n",
       "      <th>3</th>\n",
       "      <td>5.6431</td>\n",
       "      <td>37.85</td>\n",
       "      <td>-122.25</td>\n",
       "      <td>1</td>\n",
       "    </tr>\n",
       "    <tr>\n",
       "      <th>4</th>\n",
       "      <td>3.8462</td>\n",
       "      <td>37.85</td>\n",
       "      <td>-122.25</td>\n",
       "      <td>3</td>\n",
       "    </tr>\n",
       "  </tbody>\n",
       "</table>\n",
       "</div>"
      ],
      "text/plain": [
       "   MedInc  Latitude  Longitude Cluster\n",
       "0  8.3252     37.88    -122.23       1\n",
       "1  8.3014     37.86    -122.22       1\n",
       "2  7.2574     37.85    -122.24       1\n",
       "3  5.6431     37.85    -122.25       1\n",
       "4  3.8462     37.85    -122.25       3"
      ]
     },
     "execution_count": 23,
     "metadata": {},
     "output_type": "execute_result"
    }
   ],
   "source": [
    "# Create cluster feature\n",
    "kmeans = KMeans(n_clusters=6)\n",
    "X[\"Cluster\"] = kmeans.fit_predict(X)\n",
    "X[\"Cluster\"] = X[\"Cluster\"].astype(\"category\")\n",
    "\n",
    "X.head()"
   ]
  },
  {
   "cell_type": "markdown",
   "id": "76ccb10f-7e63-44dd-b16e-2bbbf5b70fcf",
   "metadata": {},
   "source": [
    "Let's plot to see the data distribution."
   ]
  },
  {
   "cell_type": "code",
   "execution_count": 24,
   "id": "bf2a27e5-62c1-4a54-b2b4-95c3906ab4ef",
   "metadata": {},
   "outputs": [
    {
     "data": {
      "image/png": "[encoded data removed]",
      "text/plain": [
       "<Figure size 640x480 with 1 Axes>"
      ]
     },
     "metadata": {},
     "output_type": "display_data"
    }
   ],
   "source": [
    "sns.scatterplot(\n",
    "    data=X,\n",
    "    x=\"Longitude\", \n",
    "    y=\"Latitude\", \n",
    "    hue=\"Cluster\"\n",
    ");"
   ]
  },
  {
   "cell_type": "markdown",
   "id": "415baa2b-812f-4c2c-8e89-9bfbace7f3b2",
   "metadata": {},
   "source": [
    "The target in this dataset is MedHouseVal (median house value). These box-plots below show the distribution of the target within each cluster. If the clustering is informative, these distributions should, for the most part, separate across MedHouseVal, which is indeed what we see."
   ]
  },
  {
   "cell_type": "code",
   "execution_count": 25,
   "id": "1fcd4d64-d514-410d-926b-4bef71c6e1f0",
   "metadata": {},
   "outputs": [
    {
     "data": {
      "image/png": "[encoded data removed]",
      "text/plain": [
       "<Figure size 657.75x600 with 1 Axes>"
      ]
     },
     "metadata": {},
     "output_type": "display_data"
    }
   ],
   "source": [
    "X[\"MedHouseVal\"] = housing[\"MedHouseVal\"]\n",
    "sns.catplot(\n",
    "    data=X, \n",
    "    x=\"MedHouseVal\", \n",
    "    y=\"Cluster\", \n",
    "    kind=\"boxen\", \n",
    "    height=6, \n",
    "    hue=\"Cluster\", \n",
    ");"
   ]
  },
  {
   "cell_type": "markdown",
   "id": "fda72c15-1961-4026-815d-f2b5957d0cf4",
   "metadata": {},
   "source": [
    "## Principal Component Analysis"
   ]
  },
  {
   "cell_type": "markdown",
   "id": "0527cf0c-e2b2-4b4d-ab5f-93fe0745696d",
   "metadata": {},
   "source": [
    "### What is PCA?\n",
    "It aims to transform a dataset consisting of possibly correlated variables (features) into a new set of uncorrelated variables called principal components."
   ]
  },
  {
   "cell_type": "markdown",
   "id": "774f1288-5b46-494b-96be-474e8c70b167",
   "metadata": {},
   "source": [
    "### Creation of PCA\n",
    "Creating PCA is simple. See code below:"
   ]
  },
  {
   "cell_type": "code",
   "execution_count": 26,
   "id": "3e810b70-c5f8-4728-9b91-3576ecbcbdeb",
   "metadata": {},
   "outputs": [
    {
     "name": "stdout",
     "output_type": "stream",
     "text": [
      "\n",
      "X:\n"
     ]
    },
    {
     "data": {
      "text/html": [
       "<div>\n",
       "<style scoped>\n",
       "    .dataframe tbody tr th:only-of-type {\n",
       "        vertical-align: middle;\n",
       "    }\n",
       "\n",
       "    .dataframe tbody tr th {\n",
       "        vertical-align: top;\n",
       "    }\n",
       "\n",
       "    .dataframe thead th {\n",
       "        text-align: right;\n",
       "    }\n",
       "</style>\n",
       "<table border=\"1\" class=\"dataframe\">\n",
       "  <thead>\n",
       "    <tr style=\"text-align: right;\">\n",
       "      <th></th>\n",
       "      <th>0</th>\n",
       "      <th>1</th>\n",
       "      <th>2</th>\n",
       "    </tr>\n",
       "  </thead>\n",
       "  <tbody>\n",
       "    <tr>\n",
       "      <th>0</th>\n",
       "      <td>1</td>\n",
       "      <td>2</td>\n",
       "      <td>3</td>\n",
       "    </tr>\n",
       "    <tr>\n",
       "      <th>1</th>\n",
       "      <td>4</td>\n",
       "      <td>5</td>\n",
       "      <td>6</td>\n",
       "    </tr>\n",
       "    <tr>\n",
       "      <th>2</th>\n",
       "      <td>7</td>\n",
       "      <td>8</td>\n",
       "      <td>9</td>\n",
       "    </tr>\n",
       "  </tbody>\n",
       "</table>\n",
       "</div>"
      ],
      "text/plain": [
       "   0  1  2\n",
       "0  1  2  3\n",
       "1  4  5  6\n",
       "2  7  8  9"
      ]
     },
     "metadata": {},
     "output_type": "display_data"
    },
    {
     "name": "stdout",
     "output_type": "stream",
     "text": [
      "\n",
      "X_scaled:\n"
     ]
    },
    {
     "data": {
      "text/plain": [
       "array([[-1.22474487, -1.22474487, -1.22474487],\n",
       "       [ 0.        ,  0.        ,  0.        ],\n",
       "       [ 1.22474487,  1.22474487,  1.22474487]])"
      ]
     },
     "metadata": {},
     "output_type": "display_data"
    },
    {
     "name": "stdout",
     "output_type": "stream",
     "text": [
      "\n",
      "PCA Components:\n"
     ]
    },
    {
     "data": {
      "text/plain": [
       "array([[ 2.12132034,  0.        ],\n",
       "       [-0.        ,  0.        ],\n",
       "       [-2.12132034,  0.        ]])"
      ]
     },
     "metadata": {},
     "output_type": "display_data"
    }
   ],
   "source": [
    "from sklearn.decomposition import PCA\n",
    "from sklearn.preprocessing import StandardScaler\n",
    "\n",
    "# Sample data (replace X with your dataset)\n",
    "X = pd.DataFrame(np.array([[1, 2, 3], [4, 5, 6], [7, 8, 9]]))\n",
    "\n",
    "print(\"\\nX:\")\n",
    "display(X)\n",
    "\n",
    "# Standardize the data\n",
    "scaler = StandardScaler()\n",
    "X_scaled = scaler.fit_transform(X)\n",
    "\n",
    "print(\"\\nX_scaled:\")\n",
    "display(X_scaled)\n",
    "\n",
    "# Perform PCA\n",
    "pca = PCA(n_components=2)  # Specify the number of components\n",
    "X_pca = pca.fit_transform(X_scaled)\n",
    "\n",
    "# The transformed dataset with PCA components\n",
    "print(\"\\nPCA Components:\")\n",
    "display(X_pca)"
   ]
  },
  {
   "cell_type": "markdown",
   "id": "5af195d0-9f93-4690-a529-50adede0af0a",
   "metadata": {},
   "source": [
    "### The main objectives of PCA\n",
    "\n",
    "* **Dimensionality Reduction**: PCA reduces the number of dimensions (or features) in the dataset while preserving as much of the original information as possible.\n",
    "* **Decorrelation**: PCA seeks to find a new set of variables that are orthogonal (uncorrelated) to each other, thus removing redundant information from the dataset.\n",
    "* **Noise Reduction**: Principal components corresponding to low-variance dimensions often capture noise or irrelevant information in the data. By discarding these components, PCA can focus on the most informative dimensions, thereby reducing the impact of noise.\n",
    "* **Visualization**: PCA can be used for data visualization by projecting high-dimensional data onto a lower-dimensional space (e.g., two or three dimensions). This allows for easier visualization and interpretation of the data.\n",
    "* **Feature Extraction**: PCA can be used to identify the underlying structure and patterns in the data. The principal components represent new features that are combinations of the original variables, potentially revealing latent relationships or groupings in the data."
   ]
  },
  {
   "cell_type": "markdown",
   "id": "8548fdf9-1163-4517-b89b-58bc378ead20",
   "metadata": {},
   "source": [
    "### PCA Best Practices\n",
    "* PCA only works with numeric features, like continuous quantities or counts.\n",
    "* PCA is sensitive to scale. It's good practice to `standardize` your data before applying PCA.\n",
    "* Consider removing or constraining outliers, since they can have an undue influence on the results."
   ]
  },
  {
   "cell_type": "markdown",
   "id": "fd1df2bc-f368-472b-b15e-c1459359a235",
   "metadata": {},
   "source": [
    "### Manual example\n",
    "An abalone is a sea creature much like a clam or an oyster. We choose 2 features: the 'Height' and 'Diameter' of their shells.\n",
    "\n",
    "![axes_of_variation](image/axes_of_variation.png)"
   ]
  },
  {
   "cell_type": "markdown",
   "id": "7abaff33-5933-4b44-9933-8f17be5015c5",
   "metadata": {},
   "source": [
    "Notice that instead of describing abalones by their 'Height' and 'Diameter', we could describe them by their 'Size' and 'Shape'. This, in fact, is the whole idea of PCA: instead of describing the data with the original features, we describe it with its variation. The variation become the new features.\n",
    "![principal_components](image/principal_components.png)"
   ]
  },
  {
   "cell_type": "markdown",
   "id": "d97f9b38-2e70-4789-8971-32f06802c6ec",
   "metadata": {},
   "source": [
    "The new features PCA constructs are actually just linear combinations (weighted sums) of the original features:\n",
    "```javascript\n",
    "df[\"Size\"] = 0.707 * X[\"Height\"] + 0.707 * X[\"Diameter\"]\n",
    "df[\"Shape\"] = 0.707 * X[\"Height\"] - 0.707 * X[\"Diameter\"]\n",
    "```\n",
    "\n",
    "These new features are called the `principal components` of the data. The weights themselves are called `loadings`."
   ]
  },
  {
   "cell_type": "markdown",
   "id": "4350aa31-faaa-470c-878e-72af79b87abb",
   "metadata": {},
   "source": [
    "A component's loadings tell us what variation it expresses through signs and magnitudes:\n",
    "\n",
    "| Features \\ Components | Size (PC1)\t| Shape (PC2)\n",
    "| -------- | ------- |------- |\n",
    "|Height\t   |0.707\t |0.707   |\n",
    "|Diameter  |0.707\t |-0.707  |\n"
   ]
  },
  {
   "cell_type": "markdown",
   "id": "c7708a48-ac07-4b09-98e7-68347ce9e180",
   "metadata": {},
   "source": [
    "This table of loadings is telling us that in the `Size` component, `Height` and `Diameter` vary in the same direction (same sign), but in the `Shape` component they vary in opposite directions (opposite sign)."
   ]
  },
  {
   "cell_type": "markdown",
   "id": "e0af15ab-09e3-47db-8422-b369dd901cac",
   "metadata": {},
   "source": [
    "PCA also tells us the amount of variation in each component. \n",
    "![variance](image/variance.png)\n",
    "`Size` accounts for about 96% and the `Shape` for about 4% of the variance between `Height` and `Diameter`.\n",
    "\n",
    "Since the components tell you about the variation, you could compute the `MI scores` for the components and see what kind of variation is most predictive of your target. That could give you ideas for kinds of features to create -- a `product` of 'Height' and 'Diameter' if `'Size'` is important, say, or a `ratio` of 'Height' and 'Diameter' if `'Shape'` is important. "
   ]
  },
  {
   "cell_type": "markdown",
   "id": "73adb7af-385c-4c77-8eb6-a0bb95116944",
   "metadata": {},
   "source": [
    "### Example - 1985 Automobiles"
   ]
  },
  {
   "cell_type": "markdown",
   "id": "0ccaf7af-3633-4c18-a112-0d8a0f85f6eb",
   "metadata": {},
   "source": [
    "Create `plot_variance()` and `make_mi_scores()` methods."
   ]
  },
  {
   "cell_type": "code",
   "execution_count": 27,
   "id": "065d5b0e-dca4-478b-92e4-fc0bf6f65de4",
   "metadata": {},
   "outputs": [],
   "source": [
    "from IPython.display import display\n",
    "from sklearn.feature_selection import mutual_info_regression\n",
    "\n",
    "\n",
    "sns.set_style(\"whitegrid\")\n",
    "plt.rc(\"figure\", autolayout=True)\n",
    "plt.rc(\n",
    "    \"axes\",\n",
    "    labelweight=\"bold\",\n",
    "    labelsize=\"large\",\n",
    "    titleweight=\"bold\",\n",
    "    titlesize=14,\n",
    "    titlepad=10,\n",
    ")\n",
    "\n",
    "\n",
    "def plot_variance(pca, width=8, dpi=100):\n",
    "    # Create figure\n",
    "    fig, axs = plt.subplots(1, 2)\n",
    "    n = pca.n_components_\n",
    "    grid = np.arange(1, n + 1)\n",
    "    # Explained variance\n",
    "    evr = pca.explained_variance_ratio_\n",
    "    axs[0].bar(grid, evr)\n",
    "    axs[0].set(\n",
    "        xlabel=\"Component\", title=\"% Explained Variance\", ylim=(0.0, 1.0)\n",
    "    )\n",
    "    # Cumulative Variance\n",
    "    cv = np.cumsum(evr)\n",
    "    axs[1].plot(np.r_[0, grid], np.r_[0, cv], \"o-\")\n",
    "    axs[1].set(\n",
    "        xlabel=\"Component\", title=\"% Cumulative Variance\", ylim=(0.0, 1.0)\n",
    "    )\n",
    "    # Set up figure\n",
    "    fig.set(figwidth=8, dpi=100)\n",
    "    return axs\n",
    "\n",
    "def make_mi_scores(X, y, discrete_features):\n",
    "    mi_scores = mutual_info_regression(X, y, discrete_features=discrete_features)\n",
    "    mi_scores = pd.Series(mi_scores, name=\"MI Scores\", index=X.columns)\n",
    "    mi_scores = mi_scores.sort_values(ascending=False)\n",
    "    return mi_scores"
   ]
  },
  {
   "cell_type": "markdown",
   "id": "3a8a342c-5241-448e-9bc8-85a5af4ae9f5",
   "metadata": {},
   "source": [
    "Select a subset of autos dataframe (4 features) then standardize the data before applying PCA."
   ]
  },
  {
   "cell_type": "code",
   "execution_count": 28,
   "id": "1b78202c-dd05-424c-b787-131f80b65577",
   "metadata": {},
   "outputs": [],
   "source": [
    "features = [\"highway_mpg\", \"engine_size\", \"horsepower\", \"curb_weight\"]\n",
    "\n",
    "X = autos.copy()\n",
    "y = X.pop('price')\n",
    "X = X.loc[:, features]\n",
    "\n",
    "# Standardize the data\n",
    "scaler = StandardScaler()\n",
    "X_scaled = scaler.fit_transform(X)"
   ]
  },
  {
   "cell_type": "markdown",
   "id": "7af0ae3c-0386-4863-91d6-05ba1655a97b",
   "metadata": {},
   "source": [
    "Now we can fit scikit-learn's `PCA` estimator and create the principal components. You can see here the first few rows of the transformed dataset."
   ]
  },
  {
   "cell_type": "code",
   "execution_count": 29,
   "id": "f7047d76-8e2b-4e68-b569-18301d527652",
   "metadata": {},
   "outputs": [
    {
     "data": {
      "text/html": [
       "<div>\n",
       "<style scoped>\n",
       "    .dataframe tbody tr th:only-of-type {\n",
       "        vertical-align: middle;\n",
       "    }\n",
       "\n",
       "    .dataframe tbody tr th {\n",
       "        vertical-align: top;\n",
       "    }\n",
       "\n",
       "    .dataframe thead th {\n",
       "        text-align: right;\n",
       "    }\n",
       "</style>\n",
       "<table border=\"1\" class=\"dataframe\">\n",
       "  <thead>\n",
       "    <tr style=\"text-align: right;\">\n",
       "      <th></th>\n",
       "      <th>PC1</th>\n",
       "      <th>PC2</th>\n",
       "      <th>PC3</th>\n",
       "      <th>PC4</th>\n",
       "    </tr>\n",
       "  </thead>\n",
       "  <tbody>\n",
       "    <tr>\n",
       "      <th>0</th>\n",
       "      <td>0.383481</td>\n",
       "      <td>-0.401263</td>\n",
       "      <td>0.124444</td>\n",
       "      <td>0.169980</td>\n",
       "    </tr>\n",
       "    <tr>\n",
       "      <th>1</th>\n",
       "      <td>0.383481</td>\n",
       "      <td>-0.401263</td>\n",
       "      <td>0.124444</td>\n",
       "      <td>0.169980</td>\n",
       "    </tr>\n",
       "    <tr>\n",
       "      <th>2</th>\n",
       "      <td>1.554923</td>\n",
       "      <td>-0.107454</td>\n",
       "      <td>0.599917</td>\n",
       "      <td>-0.256747</td>\n",
       "    </tr>\n",
       "    <tr>\n",
       "      <th>3</th>\n",
       "      <td>-0.409923</td>\n",
       "      <td>-0.427055</td>\n",
       "      <td>0.243968</td>\n",
       "      <td>0.013956</td>\n",
       "    </tr>\n",
       "    <tr>\n",
       "      <th>4</th>\n",
       "      <td>1.135695</td>\n",
       "      <td>-0.816683</td>\n",
       "      <td>-0.203412</td>\n",
       "      <td>0.224721</td>\n",
       "    </tr>\n",
       "  </tbody>\n",
       "</table>\n",
       "</div>"
      ],
      "text/plain": [
       "        PC1       PC2       PC3       PC4\n",
       "0  0.383481 -0.401263  0.124444  0.169980\n",
       "1  0.383481 -0.401263  0.124444  0.169980\n",
       "2  1.554923 -0.107454  0.599917 -0.256747\n",
       "3 -0.409923 -0.427055  0.243968  0.013956\n",
       "4  1.135695 -0.816683 -0.203412  0.224721"
      ]
     },
     "execution_count": 29,
     "metadata": {},
     "output_type": "execute_result"
    }
   ],
   "source": [
    "from sklearn.decomposition import PCA\n",
    "\n",
    "# Create principal components\n",
    "pca = PCA()\n",
    "X_pca = pca.fit_transform(X_scaled)\n",
    "\n",
    "\n",
    "# Convert to dataframe\n",
    "component_names = [f\"PC{i+1}\" for i in range(X_pca.shape[1])]\n",
    "X_pca = pd.DataFrame(X_pca, columns=component_names)\n",
    "\n",
    "X_pca.head()"
   ]
  },
  {
   "cell_type": "markdown",
   "id": "eab852df-4d3d-4ba1-94d2-12580398e937",
   "metadata": {},
   "source": [
    "After fitting, the PCA instance contains the loadings (weights) in its `components_` attribute. (Terminology for PCA is inconsistent, unfortunately. We're following the convention that calls the transformed columns in X_pca the components, which otherwise don't have a name.) We'll wrap the loadings up in a dataframe."
   ]
  },
  {
   "cell_type": "code",
   "execution_count": 30,
   "id": "7290fe9c-635c-4287-ad49-99b83894224d",
   "metadata": {},
   "outputs": [
    {
     "data": {
      "text/plain": [
       "RangeIndex(start=0, stop=193, step=1)"
      ]
     },
     "metadata": {},
     "output_type": "display_data"
    },
    {
     "data": {
      "text/plain": [
       "Index(['highway_mpg', 'engine_size', 'horsepower', 'curb_weight'], dtype='object')"
      ]
     },
     "metadata": {},
     "output_type": "display_data"
    }
   ],
   "source": [
    "display(X.index)\n",
    "display(X.columns)"
   ]
  },
  {
   "cell_type": "code",
   "execution_count": 31,
   "id": "ed83be76-4e57-4f1f-80a1-2b779fec71e9",
   "metadata": {},
   "outputs": [
    {
     "data": {
      "text/html": [
       "<div>\n",
       "<style scoped>\n",
       "    .dataframe tbody tr th:only-of-type {\n",
       "        vertical-align: middle;\n",
       "    }\n",
       "\n",
       "    .dataframe tbody tr th {\n",
       "        vertical-align: top;\n",
       "    }\n",
       "\n",
       "    .dataframe thead th {\n",
       "        text-align: right;\n",
       "    }\n",
       "</style>\n",
       "<table border=\"1\" class=\"dataframe\">\n",
       "  <thead>\n",
       "    <tr style=\"text-align: right;\">\n",
       "      <th></th>\n",
       "      <th>PC1</th>\n",
       "      <th>PC2</th>\n",
       "      <th>PC3</th>\n",
       "      <th>PC4</th>\n",
       "    </tr>\n",
       "  </thead>\n",
       "  <tbody>\n",
       "    <tr>\n",
       "      <th>highway_mpg</th>\n",
       "      <td>-0.492347</td>\n",
       "      <td>0.770892</td>\n",
       "      <td>0.070142</td>\n",
       "      <td>-0.397996</td>\n",
       "    </tr>\n",
       "    <tr>\n",
       "      <th>engine_size</th>\n",
       "      <td>0.503859</td>\n",
       "      <td>0.626709</td>\n",
       "      <td>0.019960</td>\n",
       "      <td>0.594107</td>\n",
       "    </tr>\n",
       "    <tr>\n",
       "      <th>horsepower</th>\n",
       "      <td>0.500448</td>\n",
       "      <td>0.013788</td>\n",
       "      <td>0.731093</td>\n",
       "      <td>-0.463534</td>\n",
       "    </tr>\n",
       "    <tr>\n",
       "      <th>curb_weight</th>\n",
       "      <td>0.503262</td>\n",
       "      <td>0.113008</td>\n",
       "      <td>-0.678369</td>\n",
       "      <td>-0.523232</td>\n",
       "    </tr>\n",
       "  </tbody>\n",
       "</table>\n",
       "</div>"
      ],
      "text/plain": [
       "                  PC1       PC2       PC3       PC4\n",
       "highway_mpg -0.492347  0.770892  0.070142 -0.397996\n",
       "engine_size  0.503859  0.626709  0.019960  0.594107\n",
       "horsepower   0.500448  0.013788  0.731093 -0.463534\n",
       "curb_weight  0.503262  0.113008 -0.678369 -0.523232"
      ]
     },
     "execution_count": 31,
     "metadata": {},
     "output_type": "execute_result"
    }
   ],
   "source": [
    "loadings = pd.DataFrame(\n",
    "    pca.components_.T,  # transpose the matrix of loadings\n",
    "    columns=component_names,  # so the columns are the principal components\n",
    "    index=X.columns,  # and the rows are the original features\n",
    ")\n",
    "loadings"
   ]
  },
  {
   "cell_type": "markdown",
   "id": "27876441-2973-486f-9ddd-ac47045d2869",
   "metadata": {},
   "source": [
    "Recall that the signs and magnitudes of a component's loadings tell us what kind of variation it's captured. The first component (PC1) shows a contrast between large, powerful vehicles with poor gas milage, and smaller, more economical vehicles with good gas milage. We might call this the \"Luxury/Economy\" axis. The next figure shows that our four chosen features mostly vary along the Luxury/Economy axis."
   ]
  },
  {
   "cell_type": "code",
   "execution_count": 32,
   "id": "7b1ba494-6d95-48f6-ab5b-75217881e985",
   "metadata": {},
   "outputs": [
    {
     "data": {
      "image/png": "[encoded data removed]",
      "text/plain": [
       "<Figure size 800x480 with 2 Axes>"
      ]
     },
     "metadata": {},
     "output_type": "display_data"
    }
   ],
   "source": [
    "# Look at explained variance\n",
    "plot_variance(pca);"
   ]
  },
  {
   "cell_type": "markdown",
   "id": "07bca2af-e6ab-4f6a-af10-e280f85465e0",
   "metadata": {},
   "source": [
    "Let's also look at the MI scores of the components. Not surprisingly, PC1 is highly informative, though the remaining components, despite their small variance, still have a significant relationship with price. Examining those components could be worthwhile to find relationships not captured by the main Luxury/Economy axis"
   ]
  },
  {
   "cell_type": "code",
   "execution_count": 33,
   "id": "442a9bb1-8d21-4f3b-8ec1-b3eab7e747ef",
   "metadata": {},
   "outputs": [
    {
     "data": {
      "text/plain": [
       "PC1    1.015165\n",
       "PC2    0.380098\n",
       "PC3    0.307013\n",
       "PC4    0.204362\n",
       "Name: MI Scores, dtype: float64"
      ]
     },
     "execution_count": 33,
     "metadata": {},
     "output_type": "execute_result"
    }
   ],
   "source": [
    "mi_scores = make_mi_scores(X_pca, y, discrete_features=False)\n",
    "mi_scores"
   ]
  },
  {
   "cell_type": "markdown",
   "id": "48fa42a2-7d1c-4a81-a884-426041269df4",
   "metadata": {},
   "source": [
    "The third component shows a contrast between horsepower and curb_weight -- sports cars vs. wagons, it seems."
   ]
  },
  {
   "cell_type": "code",
   "execution_count": 34,
   "id": "a8239f02-3f7d-49b2-b468-ab59afbb13e5",
   "metadata": {},
   "outputs": [
    {
     "data": {
      "text/html": [
       "<div>\n",
       "<style scoped>\n",
       "    .dataframe tbody tr th:only-of-type {\n",
       "        vertical-align: middle;\n",
       "    }\n",
       "\n",
       "    .dataframe tbody tr th {\n",
       "        vertical-align: top;\n",
       "    }\n",
       "\n",
       "    .dataframe thead th {\n",
       "        text-align: right;\n",
       "    }\n",
       "</style>\n",
       "<table border=\"1\" class=\"dataframe\">\n",
       "  <thead>\n",
       "    <tr style=\"text-align: right;\">\n",
       "      <th></th>\n",
       "      <th>make</th>\n",
       "      <th>body_style</th>\n",
       "      <th>horsepower</th>\n",
       "      <th>curb_weight</th>\n",
       "    </tr>\n",
       "  </thead>\n",
       "  <tbody>\n",
       "    <tr>\n",
       "      <th>118</th>\n",
       "      <td>porsche</td>\n",
       "      <td>hardtop</td>\n",
       "      <td>207</td>\n",
       "      <td>2756</td>\n",
       "    </tr>\n",
       "    <tr>\n",
       "      <th>117</th>\n",
       "      <td>porsche</td>\n",
       "      <td>hardtop</td>\n",
       "      <td>207</td>\n",
       "      <td>2756</td>\n",
       "    </tr>\n",
       "    <tr>\n",
       "      <th>119</th>\n",
       "      <td>porsche</td>\n",
       "      <td>convertible</td>\n",
       "      <td>207</td>\n",
       "      <td>2800</td>\n",
       "    </tr>\n",
       "    <tr>\n",
       "      <th>45</th>\n",
       "      <td>jaguar</td>\n",
       "      <td>sedan</td>\n",
       "      <td>262</td>\n",
       "      <td>3950</td>\n",
       "    </tr>\n",
       "    <tr>\n",
       "      <th>96</th>\n",
       "      <td>nissan</td>\n",
       "      <td>hatchback</td>\n",
       "      <td>200</td>\n",
       "      <td>3139</td>\n",
       "    </tr>\n",
       "    <tr>\n",
       "      <th>...</th>\n",
       "      <td>...</td>\n",
       "      <td>...</td>\n",
       "      <td>...</td>\n",
       "      <td>...</td>\n",
       "    </tr>\n",
       "    <tr>\n",
       "      <th>59</th>\n",
       "      <td>mercedes-benz</td>\n",
       "      <td>wagon</td>\n",
       "      <td>123</td>\n",
       "      <td>3750</td>\n",
       "    </tr>\n",
       "    <tr>\n",
       "      <th>61</th>\n",
       "      <td>mercedes-benz</td>\n",
       "      <td>sedan</td>\n",
       "      <td>123</td>\n",
       "      <td>3770</td>\n",
       "    </tr>\n",
       "    <tr>\n",
       "      <th>101</th>\n",
       "      <td>peugot</td>\n",
       "      <td>wagon</td>\n",
       "      <td>95</td>\n",
       "      <td>3430</td>\n",
       "    </tr>\n",
       "    <tr>\n",
       "      <th>105</th>\n",
       "      <td>peugot</td>\n",
       "      <td>wagon</td>\n",
       "      <td>95</td>\n",
       "      <td>3485</td>\n",
       "    </tr>\n",
       "    <tr>\n",
       "      <th>143</th>\n",
       "      <td>toyota</td>\n",
       "      <td>wagon</td>\n",
       "      <td>62</td>\n",
       "      <td>3110</td>\n",
       "    </tr>\n",
       "  </tbody>\n",
       "</table>\n",
       "<p>193 rows × 4 columns</p>\n",
       "</div>"
      ],
      "text/plain": [
       "              make   body_style  horsepower  curb_weight\n",
       "118        porsche      hardtop         207         2756\n",
       "117        porsche      hardtop         207         2756\n",
       "119        porsche  convertible         207         2800\n",
       "45          jaguar        sedan         262         3950\n",
       "96          nissan    hatchback         200         3139\n",
       "..             ...          ...         ...          ...\n",
       "59   mercedes-benz        wagon         123         3750\n",
       "61   mercedes-benz        sedan         123         3770\n",
       "101         peugot        wagon          95         3430\n",
       "105         peugot        wagon          95         3485\n",
       "143         toyota        wagon          62         3110\n",
       "\n",
       "[193 rows x 4 columns]"
      ]
     },
     "execution_count": 34,
     "metadata": {},
     "output_type": "execute_result"
    }
   ],
   "source": [
    "# Show dataframe sorted by PC3\n",
    "idx = X_pca[\"PC3\"].sort_values(ascending=False).index\n",
    "cols = [\"make\", \"body_style\", \"horsepower\", \"curb_weight\"]\n",
    "autos.loc[idx, cols]"
   ]
  },
  {
   "cell_type": "markdown",
   "id": "1315df0b-501d-4248-88fa-59f4bfbb639e",
   "metadata": {},
   "source": [
    "To express this contrast, let's create a new ratio feature:"
   ]
  },
  {
   "cell_type": "code",
   "execution_count": 35,
   "id": "10d4941c-44ee-4ea2-9a47-4d018a2753d6",
   "metadata": {},
   "outputs": [
    {
     "data": {
      "image/png": "[encoded data removed]",
      "text/plain": [
       "<Figure size 640x480 with 1 Axes>"
      ]
     },
     "metadata": {},
     "output_type": "display_data"
    }
   ],
   "source": [
    "autos[\"sports_or_wagon\"] = X.curb_weight / X.horsepower\n",
    "\n",
    "sns.regplot(\n",
    "    data=autos,\n",
    "    x=\"sports_or_wagon\", \n",
    "    y='price', \n",
    "    order=2\n",
    ");"
   ]
  },
  {
   "cell_type": "markdown",
   "id": "da5672a0-c759-4cf3-afa9-75680c642316",
   "metadata": {
    "editable": true,
    "slideshow": {
     "slide_type": ""
    },
    "tags": []
   },
   "source": [
    "## One-hot encoding"
   ]
  },
  {
   "cell_type": "code",
   "execution_count": 37,
   "id": "1369a124-cbc9-475a-adb8-7b657437bb69",
   "metadata": {},
   "outputs": [
    {
     "data": {
      "text/html": [
       "<div>\n",
       "<style scoped>\n",
       "    .dataframe tbody tr th:only-of-type {\n",
       "        vertical-align: middle;\n",
       "    }\n",
       "\n",
       "    .dataframe tbody tr th {\n",
       "        vertical-align: top;\n",
       "    }\n",
       "\n",
       "    .dataframe thead th {\n",
       "        text-align: right;\n",
       "    }\n",
       "</style>\n",
       "<table border=\"1\" class=\"dataframe\">\n",
       "  <thead>\n",
       "    <tr style=\"text-align: right;\">\n",
       "      <th></th>\n",
       "      <th>grade</th>\n",
       "      <th>class</th>\n",
       "    </tr>\n",
       "  </thead>\n",
       "  <tbody>\n",
       "    <tr>\n",
       "      <th>0</th>\n",
       "      <td>a</td>\n",
       "      <td>math</td>\n",
       "    </tr>\n",
       "    <tr>\n",
       "      <th>1</th>\n",
       "      <td>b</td>\n",
       "      <td>writing</td>\n",
       "    </tr>\n",
       "    <tr>\n",
       "      <th>2</th>\n",
       "      <td>c</td>\n",
       "      <td>music</td>\n",
       "    </tr>\n",
       "    <tr>\n",
       "      <th>3</th>\n",
       "      <td>a</td>\n",
       "      <td>PE</td>\n",
       "    </tr>\n",
       "  </tbody>\n",
       "</table>\n",
       "</div>"
      ],
      "text/plain": [
       "  grade    class\n",
       "0     a     math\n",
       "1     b  writing\n",
       "2     c    music\n",
       "3     a       PE"
      ]
     },
     "metadata": {},
     "output_type": "display_data"
    },
    {
     "name": "stdout",
     "output_type": "stream",
     "text": [
      "<class 'pandas.core.frame.DataFrame'>\n",
      "RangeIndex: 4 entries, 0 to 3\n",
      "Data columns (total 2 columns):\n",
      " #   Column  Non-Null Count  Dtype \n",
      "---  ------  --------------  ----- \n",
      " 0   grade   4 non-null      object\n",
      " 1   class   4 non-null      object\n",
      "dtypes: object(2)\n",
      "memory usage: 196.0+ bytes\n"
     ]
    },
    {
     "data": {
      "text/plain": [
       "None"
      ]
     },
     "metadata": {},
     "output_type": "display_data"
    }
   ],
   "source": [
    "one_hot_dict = {'grade': list('abca'), 'class': ['math', 'writing', 'music', 'PE']}\n",
    "\n",
    "categories_df = pd.DataFrame(one_hot_dict)\n",
    "display(categories_df)\n",
    "display(categories_df.info())"
   ]
  },
  {
   "cell_type": "code",
   "execution_count": 38,
   "id": "fbc20de4-3123-49b8-971b-b10a2fa77f74",
   "metadata": {},
   "outputs": [
    {
     "data": {
      "text/html": [
       "<div>\n",
       "<style scoped>\n",
       "    .dataframe tbody tr th:only-of-type {\n",
       "        vertical-align: middle;\n",
       "    }\n",
       "\n",
       "    .dataframe tbody tr th {\n",
       "        vertical-align: top;\n",
       "    }\n",
       "\n",
       "    .dataframe thead th {\n",
       "        text-align: right;\n",
       "    }\n",
       "</style>\n",
       "<table border=\"1\" class=\"dataframe\">\n",
       "  <thead>\n",
       "    <tr style=\"text-align: right;\">\n",
       "      <th></th>\n",
       "      <th>grade_b</th>\n",
       "      <th>grade_c</th>\n",
       "      <th>class_math</th>\n",
       "      <th>class_music</th>\n",
       "      <th>class_writing</th>\n",
       "    </tr>\n",
       "  </thead>\n",
       "  <tbody>\n",
       "    <tr>\n",
       "      <th>0</th>\n",
       "      <td>0</td>\n",
       "      <td>0</td>\n",
       "      <td>1</td>\n",
       "      <td>0</td>\n",
       "      <td>0</td>\n",
       "    </tr>\n",
       "    <tr>\n",
       "      <th>1</th>\n",
       "      <td>1</td>\n",
       "      <td>0</td>\n",
       "      <td>0</td>\n",
       "      <td>0</td>\n",
       "      <td>1</td>\n",
       "    </tr>\n",
       "    <tr>\n",
       "      <th>2</th>\n",
       "      <td>0</td>\n",
       "      <td>1</td>\n",
       "      <td>0</td>\n",
       "      <td>1</td>\n",
       "      <td>0</td>\n",
       "    </tr>\n",
       "    <tr>\n",
       "      <th>3</th>\n",
       "      <td>0</td>\n",
       "      <td>0</td>\n",
       "      <td>0</td>\n",
       "      <td>0</td>\n",
       "      <td>0</td>\n",
       "    </tr>\n",
       "  </tbody>\n",
       "</table>\n",
       "</div>"
      ],
      "text/plain": [
       "   grade_b  grade_c  class_math  class_music  class_writing\n",
       "0        0        0           1            0              0\n",
       "1        1        0           0            0              1\n",
       "2        0        1           0            1              0\n",
       "3        0        0           0            0              0"
      ]
     },
     "execution_count": 38,
     "metadata": {},
     "output_type": "execute_result"
    }
   ],
   "source": [
    "# Create one-hot encoding DataFrame for all object type of columns\n",
    "pd.get_dummies(categories_df, drop_first=True, dtype=int)"
   ]
  },
  {
   "cell_type": "markdown",
   "id": "100263aa-28af-47b7-8880-298ca7e89544",
   "metadata": {},
   "source": [
    "## Target Encoding\n",
    "\n",
    "A target encoding is any kind of encoding that replaces a feature's categories with some number derived from the target.\n",
    "\n",
    "Here is an example of `mean encoding`:"
   ]
  },
  {
   "cell_type": "code",
   "execution_count": 36,
   "id": "294bc775-d876-4ff7-8ffd-979db37ae1b8",
   "metadata": {},
   "outputs": [
    {
     "data": {
      "text/html": [
       "<div>\n",
       "<style scoped>\n",
       "    .dataframe tbody tr th:only-of-type {\n",
       "        vertical-align: middle;\n",
       "    }\n",
       "\n",
       "    .dataframe tbody tr th {\n",
       "        vertical-align: top;\n",
       "    }\n",
       "\n",
       "    .dataframe thead th {\n",
       "        text-align: right;\n",
       "    }\n",
       "</style>\n",
       "<table border=\"1\" class=\"dataframe\">\n",
       "  <thead>\n",
       "    <tr style=\"text-align: right;\">\n",
       "      <th></th>\n",
       "      <th>make</th>\n",
       "      <th>price</th>\n",
       "      <th>make_encoded</th>\n",
       "    </tr>\n",
       "  </thead>\n",
       "  <tbody>\n",
       "    <tr>\n",
       "      <th>0</th>\n",
       "      <td>alfa-romero</td>\n",
       "      <td>13495</td>\n",
       "      <td>15498.333333</td>\n",
       "    </tr>\n",
       "    <tr>\n",
       "      <th>1</th>\n",
       "      <td>alfa-romero</td>\n",
       "      <td>16500</td>\n",
       "      <td>15498.333333</td>\n",
       "    </tr>\n",
       "    <tr>\n",
       "      <th>2</th>\n",
       "      <td>alfa-romero</td>\n",
       "      <td>16500</td>\n",
       "      <td>15498.333333</td>\n",
       "    </tr>\n",
       "    <tr>\n",
       "      <th>3</th>\n",
       "      <td>audi</td>\n",
       "      <td>13950</td>\n",
       "      <td>17859.166667</td>\n",
       "    </tr>\n",
       "    <tr>\n",
       "      <th>4</th>\n",
       "      <td>audi</td>\n",
       "      <td>17450</td>\n",
       "      <td>17859.166667</td>\n",
       "    </tr>\n",
       "    <tr>\n",
       "      <th>5</th>\n",
       "      <td>audi</td>\n",
       "      <td>15250</td>\n",
       "      <td>17859.166667</td>\n",
       "    </tr>\n",
       "    <tr>\n",
       "      <th>6</th>\n",
       "      <td>audi</td>\n",
       "      <td>17710</td>\n",
       "      <td>17859.166667</td>\n",
       "    </tr>\n",
       "    <tr>\n",
       "      <th>7</th>\n",
       "      <td>audi</td>\n",
       "      <td>18920</td>\n",
       "      <td>17859.166667</td>\n",
       "    </tr>\n",
       "    <tr>\n",
       "      <th>8</th>\n",
       "      <td>audi</td>\n",
       "      <td>23875</td>\n",
       "      <td>17859.166667</td>\n",
       "    </tr>\n",
       "    <tr>\n",
       "      <th>9</th>\n",
       "      <td>bmw</td>\n",
       "      <td>16430</td>\n",
       "      <td>26118.750000</td>\n",
       "    </tr>\n",
       "  </tbody>\n",
       "</table>\n",
       "</div>"
      ],
      "text/plain": [
       "          make  price  make_encoded\n",
       "0  alfa-romero  13495  15498.333333\n",
       "1  alfa-romero  16500  15498.333333\n",
       "2  alfa-romero  16500  15498.333333\n",
       "3         audi  13950  17859.166667\n",
       "4         audi  17450  17859.166667\n",
       "5         audi  15250  17859.166667\n",
       "6         audi  17710  17859.166667\n",
       "7         audi  18920  17859.166667\n",
       "8         audi  23875  17859.166667\n",
       "9          bmw  16430  26118.750000"
      ]
     },
     "execution_count": 36,
     "metadata": {},
     "output_type": "execute_result"
    }
   ],
   "source": [
    "autos[\"make_encoded\"] = (autos\n",
    "    .groupby(\"make\")[\"price\"]\n",
    "    .transform(\"mean\")\n",
    ")\n",
    "\n",
    "autos[[\"make\", \"price\", \"make_encoded\"]].head(10)"
   ]
  },
  {
   "cell_type": "markdown",
   "id": "4471d92a-1a2b-42d1-952b-f128ea2ff7cc",
   "metadata": {},
   "source": [
    "### Potential issues\n",
    "\n",
    "* **Unknown categories**<br>\n",
    "  Models trained on a limited set of categories may struggle to new or unseen categories during testing or deployment. You have to impute those missing values.\n",
    "\n",
    "* **Rare categories**<br>\n",
    "  When a category only occurs a few times in the dataset, any statistics calculated on its group are unlikely to be very accurate."
   ]
  },
  {
   "cell_type": "markdown",
   "id": "e2f2a35a-7927-442f-805f-8a3dd1958afc",
   "metadata": {},
   "source": [
    "To address these issues, several strategies can be employed\n",
    "1. Handling Unknown Categories:\n",
    "   * Encode Unknown Categories: Instead of discarding unknown categories encountered during testing or deployment, encode them as a separate category or label. This allows the model to treat unknown categories as a distinct entity and make predictions accordingly.\n",
    "   * Imputation: Impute missing or unknown categories with a value that represents missing data, such as \"Unknown\" or \"Other.\"\n",
    "   * Model-Based Approaches: Train a separate model to predict the presence of unknown categories based on other features in the dataset. Use the predictions from this model as an additional feature in the main model.\n",
    "    \n",
    "2. Dealing with Rare Categories:\n",
    "   * Aggregating Rare Categories: Group rare categories into a single category or merge them with similar categories to reduce their impact on the model.\n",
    "   * Oversampling: Oversample instances of rare categories to balance the distribution of categories in the dataset. Techniques like SMOTE (Synthetic Minority Over-sampling Technique) can be used for this purpose.\n",
    "   * Undersampling: Undersample instances of common categories to balance the distribution of categories in the dataset. This can be useful if the dataset is highly imbalanced.\n",
    "   * Feature Engineering: Create new features to capture information about rare categories, such as binary indicators for whether an observation belongs to a rare category or not.\n",
    "   * Regularization: Use regularization techniques, such as L1 regularization (Lasso), to penalize model complexity and discourage overfitting to rare categories.\n",
    "   * Ensemble Methods: Combine multiple models trained on different subsets of the data or with different weights assigned to observations to mitigate the impact of rare categories.\n",
    "\n",
    "3. Data Collection and Preprocessing:\n",
    "   * Collect More Data: Collect additional data to increase the representation of rare categories in the dataset.\n",
    "   * Data Augmentation: Augment the dataset by generating synthetic data points for rare categories using techniques like data mirroring, rotation, or translation.\n",
    "\n",
    "4. Validation and Evaluation:\n",
    "   * Cross-Validation: Use cross-validation techniques to evaluate model performance on multiple folds of the data, ensuring that the model's performance is robust to variations in the distribution of categories.\n",
    "   * Monitoring: Monitor model performance in production to detect shifts in the distribution of categories and take corrective actions if necessary."
   ]
  },
  {
   "cell_type": "markdown",
   "id": "dbb5f3ff-a414-4621-9e93-776677386974",
   "metadata": {},
   "source": [
    "### Use Cases for Target Encoding\n",
    "Target encoding is great for:\n",
    "* **High-cardinality features**: A feature with a large number of categories can be troublesome to encode: a one-hot encoding would generate too many features and alternatives, like a label encoding, might not be appropriate for that feature. A target encoding derives numbers for the categories using the feature's most important property: its relationship with the target.\n",
    "\n",
    "* **Domain-motivated features**: From prior experience, you might suspect that a categorical feature should be important even if it scored poorly with a feature metric. A target encoding can help reveal a feature's true informativeness."
   ]
  },
  {
   "cell_type": "markdown",
   "id": "4317b1a0-fb9f-42b7-b362-5bff64165bbb",
   "metadata": {},
   "source": [
    "## Transform Data"
   ]
  },
  {
   "cell_type": "markdown",
   "id": "ccaa8731-a8ef-4251-9c21-4282a908494a",
   "metadata": {},
   "source": [
    "### Unify measurement unit\n",
    "Here is an exmaple to convert miles to km."
   ]
  },
  {
   "cell_type": "code",
   "execution_count": 43,
   "id": "ec1350d9-7611-4c39-925d-24d67b41506a",
   "metadata": {},
   "outputs": [
    {
     "data": {
      "text/html": [
       "<div>\n",
       "<style scoped>\n",
       "    .dataframe tbody tr th:only-of-type {\n",
       "        vertical-align: middle;\n",
       "    }\n",
       "\n",
       "    .dataframe tbody tr th {\n",
       "        vertical-align: top;\n",
       "    }\n",
       "\n",
       "    .dataframe thead th {\n",
       "        text-align: right;\n",
       "    }\n",
       "</style>\n",
       "<table border=\"1\" class=\"dataframe\">\n",
       "  <thead>\n",
       "    <tr style=\"text-align: right;\">\n",
       "      <th></th>\n",
       "      <th>brand</th>\n",
       "      <th>millage</th>\n",
       "    </tr>\n",
       "  </thead>\n",
       "  <tbody>\n",
       "    <tr>\n",
       "      <th>0</th>\n",
       "      <td>Honda</td>\n",
       "      <td>1900 miles</td>\n",
       "    </tr>\n",
       "    <tr>\n",
       "      <th>1</th>\n",
       "      <td>Toyota</td>\n",
       "      <td>900 km</td>\n",
       "    </tr>\n",
       "    <tr>\n",
       "      <th>2</th>\n",
       "      <td>Tesla</td>\n",
       "      <td>800 miles</td>\n",
       "    </tr>\n",
       "  </tbody>\n",
       "</table>\n",
       "</div>"
      ],
      "text/plain": [
       "    brand     millage\n",
       "0   Honda  1900 miles\n",
       "1  Toyota      900 km\n",
       "2   Tesla   800 miles"
      ]
     },
     "execution_count": 43,
     "metadata": {},
     "output_type": "execute_result"
    }
   ],
   "source": [
    "used_car_data = {\"brand\": ['Honda','Toyota', 'Tesla'], \"millage\": ['1900 miles', '900 km', '800 miles']}\n",
    "used_car_df = pd.DataFrame(used_car_data)\n",
    "used_car_df"
   ]
  },
  {
   "cell_type": "code",
   "execution_count": 44,
   "id": "a1ba6cd4-8398-4f3e-9a90-b38eec50f807",
   "metadata": {},
   "outputs": [
    {
     "data": {
      "text/html": [
       "<div>\n",
       "<style scoped>\n",
       "    .dataframe tbody tr th:only-of-type {\n",
       "        vertical-align: middle;\n",
       "    }\n",
       "\n",
       "    .dataframe tbody tr th {\n",
       "        vertical-align: top;\n",
       "    }\n",
       "\n",
       "    .dataframe thead th {\n",
       "        text-align: right;\n",
       "    }\n",
       "</style>\n",
       "<table border=\"1\" class=\"dataframe\">\n",
       "  <thead>\n",
       "    <tr style=\"text-align: right;\">\n",
       "      <th></th>\n",
       "      <th>brand</th>\n",
       "      <th>millage</th>\n",
       "      <th>millage_km</th>\n",
       "    </tr>\n",
       "  </thead>\n",
       "  <tbody>\n",
       "    <tr>\n",
       "      <th>0</th>\n",
       "      <td>Honda</td>\n",
       "      <td>1900 miles</td>\n",
       "      <td>3057</td>\n",
       "    </tr>\n",
       "    <tr>\n",
       "      <th>1</th>\n",
       "      <td>Toyota</td>\n",
       "      <td>900 km</td>\n",
       "      <td>900</td>\n",
       "    </tr>\n",
       "    <tr>\n",
       "      <th>2</th>\n",
       "      <td>Tesla</td>\n",
       "      <td>800 miles</td>\n",
       "      <td>1287</td>\n",
       "    </tr>\n",
       "  </tbody>\n",
       "</table>\n",
       "</div>"
      ],
      "text/plain": [
       "    brand     millage  millage_km\n",
       "0   Honda  1900 miles        3057\n",
       "1  Toyota      900 km         900\n",
       "2   Tesla   800 miles        1287"
      ]
     },
     "execution_count": 44,
     "metadata": {},
     "output_type": "execute_result"
    }
   ],
   "source": [
    "# convert miles into km\n",
    "def miles_to_km(x):\n",
    "    x = str(x)\n",
    "    x = x.replace(',', '')\n",
    "    if \"miles\" in x:\n",
    "        x = x.split(\"miles\")[0]\n",
    "        x = 1.60934 * int(x)\n",
    "    else:\n",
    "        x = x.replace(\" km\", \"\")\n",
    "    return int(x)\n",
    "\n",
    "used_car_df['millage_km'] = used_car_df['millage'].apply(miles_to_km)\n",
    "used_car_df"
   ]
  },
  {
   "cell_type": "markdown",
   "id": "8dd2e981-41d6-48a3-8080-17f0bfc5da76",
   "metadata": {},
   "source": [
    "## Correlation between features and target"
   ]
  },
  {
   "cell_type": "code",
   "execution_count": 48,
   "id": "261a7968-aa60-4055-955e-4a2bc909899d",
   "metadata": {},
   "outputs": [
    {
     "data": {
      "text/html": [
       "<div>\n",
       "<style scoped>\n",
       "    .dataframe tbody tr th:only-of-type {\n",
       "        vertical-align: middle;\n",
       "    }\n",
       "\n",
       "    .dataframe tbody tr th {\n",
       "        vertical-align: top;\n",
       "    }\n",
       "\n",
       "    .dataframe thead th {\n",
       "        text-align: right;\n",
       "    }\n",
       "</style>\n",
       "<table border=\"1\" class=\"dataframe\">\n",
       "  <thead>\n",
       "    <tr style=\"text-align: right;\">\n",
       "      <th></th>\n",
       "      <th>model</th>\n",
       "      <th>year</th>\n",
       "      <th>motor_type</th>\n",
       "      <th>running</th>\n",
       "      <th>wheel</th>\n",
       "      <th>color</th>\n",
       "      <th>type</th>\n",
       "      <th>status</th>\n",
       "      <th>motor_volume</th>\n",
       "      <th>price</th>\n",
       "    </tr>\n",
       "  </thead>\n",
       "  <tbody>\n",
       "    <tr>\n",
       "      <th>0</th>\n",
       "      <td>toyota</td>\n",
       "      <td>2022</td>\n",
       "      <td>petrol</td>\n",
       "      <td>3000</td>\n",
       "      <td>left</td>\n",
       "      <td>skyblue</td>\n",
       "      <td>sedan</td>\n",
       "      <td>excellent</td>\n",
       "      <td>2.0</td>\n",
       "      <td>24500</td>\n",
       "    </tr>\n",
       "    <tr>\n",
       "      <th>1</th>\n",
       "      <td>mercedes-benz</td>\n",
       "      <td>2014</td>\n",
       "      <td>petrol</td>\n",
       "      <td>132000</td>\n",
       "      <td>left</td>\n",
       "      <td>black</td>\n",
       "      <td>sedan</td>\n",
       "      <td>excellent</td>\n",
       "      <td>2.0</td>\n",
       "      <td>25500</td>\n",
       "    </tr>\n",
       "    <tr>\n",
       "      <th>2</th>\n",
       "      <td>kia</td>\n",
       "      <td>2018</td>\n",
       "      <td>petrol</td>\n",
       "      <td>152887</td>\n",
       "      <td>left</td>\n",
       "      <td>other</td>\n",
       "      <td>sedan</td>\n",
       "      <td>excellent</td>\n",
       "      <td>2.0</td>\n",
       "      <td>11700</td>\n",
       "    </tr>\n",
       "    <tr>\n",
       "      <th>3</th>\n",
       "      <td>mercedes-benz</td>\n",
       "      <td>2002</td>\n",
       "      <td>petrol</td>\n",
       "      <td>220479</td>\n",
       "      <td>left</td>\n",
       "      <td>golden</td>\n",
       "      <td>sedan</td>\n",
       "      <td>excellent</td>\n",
       "      <td>3.2</td>\n",
       "      <td>12000</td>\n",
       "    </tr>\n",
       "    <tr>\n",
       "      <th>4</th>\n",
       "      <td>mercedes-benz</td>\n",
       "      <td>2017</td>\n",
       "      <td>petrol</td>\n",
       "      <td>130000</td>\n",
       "      <td>left</td>\n",
       "      <td>black</td>\n",
       "      <td>sedan</td>\n",
       "      <td>good</td>\n",
       "      <td>2.0</td>\n",
       "      <td>26000</td>\n",
       "    </tr>\n",
       "  </tbody>\n",
       "</table>\n",
       "</div>"
      ],
      "text/plain": [
       "           model  year motor_type  running wheel    color   type     status  \\\n",
       "0         toyota  2022     petrol     3000  left  skyblue  sedan  excellent   \n",
       "1  mercedes-benz  2014     petrol   132000  left    black  sedan  excellent   \n",
       "2            kia  2018     petrol   152887  left    other  sedan  excellent   \n",
       "3  mercedes-benz  2002     petrol   220479  left   golden  sedan  excellent   \n",
       "4  mercedes-benz  2017     petrol   130000  left    black  sedan       good   \n",
       "\n",
       "   motor_volume  price  \n",
       "0           2.0  24500  \n",
       "1           2.0  25500  \n",
       "2           2.0  11700  \n",
       "3           3.2  12000  \n",
       "4           2.0  26000  "
      ]
     },
     "execution_count": 48,
     "metadata": {},
     "output_type": "execute_result"
    }
   ],
   "source": [
    "car_price_df = pd.read_csv('data/predicat_car_price_train.csv')\n",
    "car_price_df['running'] = car_price_df['running'].apply(miles_to_km)\n",
    "car_price_df.head()"
   ]
  },
  {
   "cell_type": "code",
   "execution_count": 49,
   "id": "9ac318e3-8e7a-4441-bdd1-f3b31944c4bf",
   "metadata": {},
   "outputs": [
    {
     "data": {
      "text/plain": [
       "Index(['year', 'running', 'motor_volume', 'price'], dtype='object')"
      ]
     },
     "execution_count": 49,
     "metadata": {},
     "output_type": "execute_result"
    }
   ],
   "source": [
    "num_cols = car_price_df.select_dtypes(include=['int64', 'float64']).columns\n",
    "num_cols"
   ]
  },
  {
   "cell_type": "code",
   "execution_count": 50,
   "id": "9d5295af-d6ed-4dda-a4f1-4dbe1418eb8b",
   "metadata": {},
   "outputs": [
    {
     "data": {
      "text/plain": [
       "year            0.638699\n",
       "running        -0.513133\n",
       "motor_volume    0.000885\n",
       "price           1.000000\n",
       "Name: price, dtype: float64"
      ]
     },
     "execution_count": 50,
     "metadata": {},
     "output_type": "execute_result"
    }
   ],
   "source": [
    "corr = car_price_df[num_cols].corr()\n",
    "\n",
    "# found running is negative correlation with price\n",
    "corr['price']"
   ]
  },
  {
   "cell_type": "markdown",
   "id": "cc80ece7-4ffa-43d5-8dae-e4acb5b07342",
   "metadata": {},
   "source": [
    "To predict the car price, we can learn from feature correlations to create some new features, e.g.\n",
    "```python\n",
    "X['running_per_year'] =  X['running'] / X['year']\n",
    "X['year_per_running'] = X['year'] / X['running']\n",
    "X['running_sq'] = X['running'] **2\n",
    "X['year_sq'] = X['year'] **2\n",
    "X['running_for_years'] =  2024- X['year']\n",
    "X['run_per_year'] = X['running']/(2024-X['year'])\n",
    "```"
   ]
  },
  {
   "cell_type": "code",
   "execution_count": null,
   "id": "90afa914-77b6-4622-b31f-2725ac1061ca",
   "metadata": {},
   "outputs": [],
   "source": []
  }
 ],
 "metadata": {
  "kernelspec": {
   "display_name": "Python 3 (ipykernel)",
   "language": "python",
   "name": "python3"
  },
  "language_info": {
   "codemirror_mode": {
    "name": "ipython",
    "version": 3
   },
   "file_extension": ".py",
   "mimetype": "text/x-python",
   "name": "python",
   "nbconvert_exporter": "python",
   "pygments_lexer": "ipython3",
   "version": "3.11.7"
  }
 },
 "nbformat": 4,
 "nbformat_minor": 5
}

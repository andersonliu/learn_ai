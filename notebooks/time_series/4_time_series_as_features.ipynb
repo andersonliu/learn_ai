{
 "cells": [
  {
   "cell_type": "markdown",
   "id": "4d474f41-0112-4f5a-8243-610a440acb06",
   "metadata": {},
   "source": [
    "# Time Series as Features"
   ]
  },
  {
   "cell_type": "markdown",
   "id": "114a268b-1dd9-4959-a455-7cef37539ba0",
   "metadata": {},
   "source": [
    "## Cycles\n",
    "Cycles are patterns of growth and decay in a time series associated with how the value in a series at one time depends on values at previous times, but not necessarily on the time step itself."
   ]
  },
  {
   "cell_type": "markdown",
   "id": "8dcfaf48-7e6a-44da-9318-4e390edb9fba",
   "metadata": {},
   "source": [
    "Cyclic behavior vs Seasonality\n",
    "\n",
    "* **Cyclic Behavior**:\n",
    "  1. Cyclic behavior refers to repetitive patterns or fluctuations in data that occur over longer time intervals than seasonality.\n",
    "  2. Cycles are often irregular in duration and amplitude, and they do not have fixed or predictable periods.\n",
    "  3. Cycles typically result from economic, business, or environmental factors that operate over longer time horizons, such as business cycles, economic expansions and contractions, or long-term climate cycles.\n",
    "  4. Unlike seasonality, cyclic behavior does not follow fixed calendar-based patterns and may not exhibit consistent periodicity over time.\n",
    "* **Seasonality**:\n",
    "  1. Seasonality refers to regular, predictable patterns or fluctuations in data that occur at fixed intervals or periods.\n",
    "  2. Seasonal patterns repeat with a consistent frequency or period, such as daily, weekly, monthly, or yearly.\n",
    "  3. Seasonality is often influenced by calendar effects, weather patterns, holidays, or other recurring events that occur on a regular basis.\n",
    "  4. Seasonal patterns are typically more uniform and consistent compared to cyclic behavior, with clear peaks and troughs occurring at specific times of the year or other intervals.\n",
    "  4. Seasonality can be decomposed into distinct seasonal components, such as daily, weekly, or monthly effects, which can be modeled and analyzed separately."
   ]
  },
  {
   "cell_type": "markdown",
   "id": "fe47c18d-f3da-424e-9f17-5344fc47a9e9",
   "metadata": {},
   "source": [
    "## Lagged Series and Lag Plots"
   ]
  },
  {
   "cell_type": "code",
   "execution_count": null,
   "id": "6a4ce42c-3ca6-47ad-9a4f-d6a6a25a3d28",
   "metadata": {},
   "outputs": [],
   "source": []
  }
 ],
 "metadata": {
  "kernelspec": {
   "display_name": "Python 3 (ipykernel)",
   "language": "python",
   "name": "python3"
  },
  "language_info": {
   "codemirror_mode": {
    "name": "ipython",
    "version": 3
   },
   "file_extension": ".py",
   "mimetype": "text/x-python",
   "name": "python",
   "nbconvert_exporter": "python",
   "pygments_lexer": "ipython3",
   "version": "3.11.7"
  }
 },
 "nbformat": 4,
 "nbformat_minor": 5
}

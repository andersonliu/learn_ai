{
 "cells": [
  {
   "cell_type": "markdown",
   "id": "c5bae9c0-d433-4f7c-baf1-f7ba9f6f620d",
   "metadata": {},
   "source": [
    "# Dataset split"
   ]
  },
  {
   "cell_type": "markdown",
   "id": "e8e30136-c701-429f-93af-6edbf254d67e",
   "metadata": {},
   "source": [
    "## prepare training data"
   ]
  },
  {
   "cell_type": "code",
   "execution_count": 1,
   "id": "210e7aa9-75a0-4f49-b413-11baa0f00bd4",
   "metadata": {},
   "outputs": [],
   "source": [
    "import numpy as np\n",
    "import pandas as pd"
   ]
  },
  {
   "cell_type": "code",
   "execution_count": 2,
   "id": "b218de7c-13fe-4e43-938c-c8b2f3a58290",
   "metadata": {},
   "outputs": [],
   "source": [
    "# Generate a 100x3 data\n",
    "values = np.random.randint(low=0, high=100, size=(100, 3))\n",
    "labels = np.random.randint(low=0, high=1, size=(100, 1))\n",
    "\n",
    "# Create DataFrame\n",
    "features = pd.DataFrame(values, columns=['kpi_1', 'kpi_2', 'kpi_3'])\n",
    "targets = pd.DataFrame(labels, columns=['target'])"
   ]
  },
  {
   "cell_type": "markdown",
   "id": "3e8809d9-2674-4e88-b5da-9eeb19815aab",
   "metadata": {},
   "source": [
    "## split dataset"
   ]
  },
  {
   "cell_type": "code",
   "execution_count": 3,
   "id": "dc6ec95a-94ee-42be-ad6b-b6c307dde2ea",
   "metadata": {},
   "outputs": [],
   "source": [
    "from sklearn.model_selection import train_test_split\n",
    "\n",
    "# train test split. Size of train data is 80% and size of test data is 20%. \n",
    "features_train, features_test, targets_train, targets_test = train_test_split(\n",
    "    features,\n",
    "    targets,\n",
    "    test_size = 0.2,   # 20% test and 80% train\n",
    "    random_state = 42  # Given a fix random seeds producing the same results across multiple calls\n",
    ")"
   ]
  },
  {
   "cell_type": "code",
   "execution_count": 4,
   "id": "a8f43230-8b21-4653-a05b-86c7fe394201",
   "metadata": {},
   "outputs": [
    {
     "data": {
      "text/plain": [
       "(80, 3)"
      ]
     },
     "execution_count": 4,
     "metadata": {},
     "output_type": "execute_result"
    }
   ],
   "source": [
    "features_train.shape"
   ]
  },
  {
   "cell_type": "code",
   "execution_count": 5,
   "id": "91e5bd83-73f3-4e29-a76b-fda32f37267e",
   "metadata": {},
   "outputs": [
    {
     "data": {
      "text/plain": [
       "(80, 1)"
      ]
     },
     "execution_count": 5,
     "metadata": {},
     "output_type": "execute_result"
    }
   ],
   "source": [
    "targets_train.shape"
   ]
  },
  {
   "cell_type": "code",
   "execution_count": 6,
   "id": "b4a42bfe-f88c-43ce-8013-979264ae4fe7",
   "metadata": {},
   "outputs": [
    {
     "data": {
      "text/plain": [
       "(20, 3)"
      ]
     },
     "execution_count": 6,
     "metadata": {},
     "output_type": "execute_result"
    }
   ],
   "source": [
    "features_test.shape"
   ]
  },
  {
   "cell_type": "code",
   "execution_count": 7,
   "id": "8fa334b5-30d0-49b5-a932-27d9de7eac44",
   "metadata": {},
   "outputs": [
    {
     "data": {
      "text/plain": [
       "(20, 1)"
      ]
     },
     "execution_count": 7,
     "metadata": {},
     "output_type": "execute_result"
    }
   ],
   "source": [
    "targets_test.shape"
   ]
  },
  {
   "cell_type": "code",
   "execution_count": null,
   "id": "920767dd-3afe-4c21-a5bb-e80ccd1b3085",
   "metadata": {},
   "outputs": [],
   "source": []
  }
 ],
 "metadata": {
  "kernelspec": {
   "display_name": "Python 3 (ipykernel)",
   "language": "python",
   "name": "python3"
  },
  "language_info": {
   "codemirror_mode": {
    "name": "ipython",
    "version": 3
   },
   "file_extension": ".py",
   "mimetype": "text/x-python",
   "name": "python",
   "nbconvert_exporter": "python",
   "pygments_lexer": "ipython3",
   "version": "3.11.7"
  }
 },
 "nbformat": 4,
 "nbformat_minor": 5
}

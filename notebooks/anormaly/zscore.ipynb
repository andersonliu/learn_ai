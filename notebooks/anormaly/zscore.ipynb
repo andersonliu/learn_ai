{
 "cells": [
  {
   "cell_type": "markdown",
   "id": "cfe722f8-e6ce-4ed7-8c9b-1c0181b5c6ba",
   "metadata": {
    "editable": true,
    "slideshow": {
     "slide_type": ""
    },
    "tags": []
   },
   "source": [
    "# What is Z-score"
   ]
  },
  {
   "cell_type": "markdown",
   "id": "b3a92740-dd84-4437-bdbf-52b40d7c8527",
   "metadata": {},
   "source": [
    "Z-score is a statistical measure how many standard deviations a data point is away from the mean of the dataset.\n",
    "\n",
    "It calculated as below:\n",
    "$Z=\\frac{x−μ}{σ}$\n",
    "\n",
    "where:\n",
    "* x is the data point.\n",
    "* μ is the mean of the dataset<br>\n",
    "  * Mean: $μ=\\frac{x_1 + x_2 + ... + x_n}{n}$\n",
    "* σ is the standard deviation of the dataset\n",
    "  * Squared Differences: $(x_i - μ)^2$ for $i=1$ to n\n",
    "  * Variance: $σ^2=\\frac{(x_1-μ)^2+(x_2-μ)^2+...+(x_n-μ)^2}{n}$\n",
    "  * Standard Deviation: $σ=\\sqrt{σ^2}$\n",
    "* Z is the Z-score."
   ]
  },
  {
   "cell_type": "markdown",
   "id": "82051485-b52d-40c3-b700-8ca5f9d4c8a3",
   "metadata": {},
   "source": [
    "From the range of \"3 sigma\" formula below:\n",
    "* upper_bound = μ + 3σ\n",
    "* lower_bound = μ - 3σ"
   ]
  },
  {
   "cell_type": "markdown",
   "id": "24298449-c673-42a0-a17d-246fd5fbb17e",
   "metadata": {},
   "source": [
    "We can conclude if a Z-score of \n",
    "* Z-score>=3 means 3 standard deviation above the mean\n",
    "* Z-score<=-3 means 3 standard deviation below the mean"
   ]
  },
  {
   "cell_type": "markdown",
   "id": "3d554472-3dbc-4951-a7fd-628c9b53ae02",
   "metadata": {},
   "source": [
    "# When to use Z-score?"
   ]
  },
  {
   "cell_type": "markdown",
   "id": "a4d317b3-31b3-4087-912e-79edb49a440b",
   "metadata": {},
   "source": [
    "It provides a standardized score that allows you to compare data points across different datasets from different distributions."
   ]
  },
  {
   "cell_type": "markdown",
   "id": "62d86e92-82fb-441a-b689-d56603c4597a",
   "metadata": {},
   "source": [
    "`3 Sigma (σ)` indicates about 99.7% data falls within three standard deviations (3σ) of the mean."
   ]
  },
  {
   "cell_type": "markdown",
   "id": "2c831d59-be11-4e77-b4b9-4b3c3c27a4e1",
   "metadata": {},
   "source": [
    "# Z-score for Python"
   ]
  },
  {
   "cell_type": "markdown",
   "id": "ad05117c-1169-42ad-a9cc-b454fab67c2e",
   "metadata": {},
   "source": [
    "## Using SciPy"
   ]
  },
  {
   "cell_type": "code",
   "execution_count": 1,
   "id": "a9861ca8-c6df-469c-81bb-4ae1e35df468",
   "metadata": {
    "editable": true,
    "slideshow": {
     "slide_type": ""
    },
    "tags": []
   },
   "outputs": [
    {
     "name": "stdout",
     "output_type": "stream",
     "text": [
      "Original data: [10, 20, 30, 40, 50]\n",
      "Z-scores: [-1.41421356 -0.70710678  0.          0.70710678  1.41421356]\n"
     ]
    }
   ],
   "source": [
    "from scipy.stats import zscore\n",
    "\n",
    "# Sample dataset\n",
    "data = [10, 20, 30, 40, 50]\n",
    "\n",
    "# Calculate Z-scores\n",
    "z_scores = zscore(data)\n",
    "\n",
    "print(\"Original data:\", data)\n",
    "print(\"Z-scores:\", z_scores)"
   ]
  },
  {
   "cell_type": "markdown",
   "id": "1d9413ef-d97f-4cb7-ad29-59befde51600",
   "metadata": {},
   "source": [
    "## Using NumPy:"
   ]
  },
  {
   "cell_type": "code",
   "execution_count": 2,
   "id": "008114f3-3423-431f-ab6a-b131a750099e",
   "metadata": {},
   "outputs": [
    {
     "name": "stdout",
     "output_type": "stream",
     "text": [
      "Original data: [10 20 30 40 50]\n",
      "Z-scores: [-1.41421356 -0.70710678  0.          0.70710678  1.41421356]\n"
     ]
    }
   ],
   "source": [
    "import numpy as np\n",
    "\n",
    "# Sample dataset\n",
    "data = np.array([10, 20, 30, 40, 50])\n",
    "\n",
    "# Calculate Z-scores\n",
    "z_scores = (data - np.mean(data)) / np.std(data)\n",
    "\n",
    "print(\"Original data:\", data)\n",
    "print(\"Z-scores:\", z_scores)"
   ]
  },
  {
   "cell_type": "code",
   "execution_count": null,
   "id": "14a10e07-731a-44f2-8f03-33035c24a348",
   "metadata": {},
   "outputs": [],
   "source": []
  }
 ],
 "metadata": {
  "kernelspec": {
   "display_name": "Python 3 (ipykernel)",
   "language": "python",
   "name": "python3"
  },
  "language_info": {
   "codemirror_mode": {
    "name": "ipython",
    "version": 3
   },
   "file_extension": ".py",
   "mimetype": "text/x-python",
   "name": "python",
   "nbconvert_exporter": "python",
   "pygments_lexer": "ipython3",
   "version": "3.11.7"
  }
 },
 "nbformat": 4,
 "nbformat_minor": 5
}

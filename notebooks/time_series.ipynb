{
 "cells": [
  {
   "cell_type": "markdown",
   "id": "54e9499c-6a4f-4810-b303-74985edbef4c",
   "metadata": {},
   "source": [
    "# Time Series"
   ]
  },
  {
   "cell_type": "markdown",
   "id": "454a437a-1f1e-4a5d-8f96-bd214a8f5630",
   "metadata": {},
   "source": [
    "## Learn Regression With Time Series"
   ]
  },
  {
   "cell_type": "code",
   "execution_count": null,
   "id": "3d65bdc7-5ddf-4c98-bb8e-79335f9c3c3a",
   "metadata": {},
   "outputs": [],
   "source": []
  }
 ],
 "metadata": {
  "kernelspec": {
   "display_name": "Python 3 (ipykernel)",
   "language": "python",
   "name": "python3"
  },
  "language_info": {
   "codemirror_mode": {
    "name": "ipython",
    "version": 3
   },
   "file_extension": ".py",
   "mimetype": "text/x-python",
   "name": "python",
   "nbconvert_exporter": "python",
   "pygments_lexer": "ipython3",
   "version": "3.11.7"
  }
 },
 "nbformat": 4,
 "nbformat_minor": 5
}
